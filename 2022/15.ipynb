{
 "cells": [
  {
   "cell_type": "code",
   "execution_count": 272,
   "metadata": {
    "collapsed": true
   },
   "outputs": [],
   "source": [
    "data = open(\"data.txt\", \"r\").read()"
   ]
  },
  {
   "cell_type": "code",
   "execution_count": 273,
   "outputs": [],
   "source": [
    "# Sensor (x, y), Beacon (x, y)\n",
    "sensors: set[tuple[int,int]] = set()\n",
    "beacons: set[tuple[int,int]] = set()\n",
    "sb_pairs: list[tuple[tuple[int,int],tuple[int,int]]] = []"
   ],
   "metadata": {
    "collapsed": false
   }
  },
  {
   "cell_type": "code",
   "execution_count": 274,
   "outputs": [],
   "source": [
    "import math\n",
    "x_min = math.inf\n",
    "x_max = -math.inf\n",
    "y_min = math.inf\n",
    "y_max = -math.inf\n",
    "largest_man = 0\n",
    "non_beacon: set[tuple[int, int]] = set()"
   ],
   "metadata": {
    "collapsed": false
   }
  },
  {
   "cell_type": "code",
   "execution_count": 275,
   "outputs": [],
   "source": [
    "import re\n",
    "\n",
    "regex = re.compile(r\"Sensor at x=(\\S+), y=(\\S+): closest beacon is at x=(\\S+), y=(\\S+)\")\n",
    "\n",
    "matches = regex.findall(data)\n",
    "\n",
    "for match in matches:\n",
    "    int_conv = tuple(int(x) for x in match)\n",
    "    sb_pairs.append(((int_conv[0],int_conv[1]),(int_conv[2],int_conv[3])))\n",
    "    sensors.add((int_conv[0],int_conv[1]))\n",
    "    beacons.add((int_conv[2],int_conv[3]))\n",
    "    x_min = min(x_min, int_conv[0])\n",
    "    x_max = max(x_max, int_conv[0])\n",
    "    y_min = min(y_min, int_conv[1])\n",
    "    y_max = max(y_max, int_conv[1])\n",
    "    x_min = min(x_min, int_conv[2])\n",
    "    x_max = max(x_max, int_conv[2])\n",
    "    y_min = min(y_min, int_conv[3])\n",
    "    y_max = max(y_max, int_conv[3])"
   ],
   "metadata": {
    "collapsed": false
   }
  },
  {
   "cell_type": "code",
   "execution_count": 276,
   "outputs": [],
   "source": [
    "def blast(coord: tuple[int,int], man_radius: int):\n",
    "    global x_min, x_max, y_min, y_max\n",
    "    cx, cy = coord\n",
    "    for i in range(-man_radius, man_radius + 1):\n",
    "        for j in range(-man_radius, man_radius + 1):\n",
    "            if (abs(i) + abs(j)) <= man_radius and (cx+i, cy+j) not in beacons and (i, j) != (0,0):\n",
    "                non_beacon.add((cx+i, cy+j))\n",
    "                x_min = min(x_min, cx+i)\n",
    "                x_max = max(x_max, cx+i)\n",
    "                y_min = min(y_min, cy+i)\n",
    "                y_max = max(y_max, cy+i)"
   ],
   "metadata": {
    "collapsed": false
   }
  },
  {
   "cell_type": "code",
   "execution_count": 277,
   "outputs": [],
   "source": [
    "sm_pairs: list[tuple[tuple[int,int],int]] = []\n",
    "for sb_pair in sb_pairs:\n",
    "    sensor, beacon = sb_pair\n",
    "    manhattan = abs(beacon[0] - sensor[0]) + abs(beacon[1] - sensor[1])\n",
    "    largest_man = max(manhattan, largest_man)\n",
    "    sm_pairs.append((sensor, manhattan))"
   ],
   "metadata": {
    "collapsed": false
   }
  },
  {
   "cell_type": "markdown",
   "source": [],
   "metadata": {
    "collapsed": false
   }
  },
  {
   "cell_type": "code",
   "execution_count": 278,
   "outputs": [],
   "source": [
    "def test_in_splat(splat_rule: tuple[tuple[int,int],int], test_coord: tuple[int,int]):\n",
    "    sensor_coord, man_dist = splat_rule\n",
    "    return abs(test_coord[0] - sensor_coord[0]) + abs(test_coord[1] - sensor_coord[1]) <= man_dist"
   ],
   "metadata": {
    "collapsed": false
   }
  },
  {
   "cell_type": "code",
   "execution_count": 267,
   "outputs": [],
   "source": [
    "target_row = 2000000\n",
    "not_contain_in_row = 0\n",
    "for i in range(int(x_min)-largest_man-1,int(x_max) + largest_man + 2):\n",
    "    for sm_pair in sm_pairs:\n",
    "        in_splat = test_in_splat(sm_pair, (i, target_row))\n",
    "        if in_splat and (i, target_row) not in beacons:\n",
    "            not_contain_in_row += 1\n",
    "            break"
   ],
   "metadata": {
    "collapsed": false
   }
  },
  {
   "cell_type": "code",
   "execution_count": 268,
   "outputs": [
    {
     "data": {
      "text/plain": "0"
     },
     "execution_count": 268,
     "metadata": {},
     "output_type": "execute_result"
    }
   ],
   "source": [
    "not_contain_in_row"
   ],
   "metadata": {
    "collapsed": false
   }
  },
  {
   "cell_type": "markdown",
   "source": [
    "## Part 2"
   ],
   "metadata": {
    "collapsed": false
   }
  },
  {
   "cell_type": "code",
   "execution_count": 269,
   "outputs": [],
   "source": [
    "import z3"
   ],
   "metadata": {
    "collapsed": false
   }
  },
  {
   "cell_type": "code",
   "execution_count": 279,
   "outputs": [],
   "source": [
    "def test_out_splat(splat_rule: tuple[tuple[int,int],int], test_coord: tuple[int,int]):\n",
    "    sensor_coord, man_dist = splat_rule\n",
    "    return z3.Abs(test_coord[0] - sensor_coord[0]) + z3.Abs(test_coord[1] - sensor_coord[1]) > man_dist"
   ],
   "metadata": {
    "collapsed": false
   }
  },
  {
   "cell_type": "code",
   "execution_count": 280,
   "outputs": [
    {
     "name": "stdout",
     "output_type": "stream",
     "text": [
      "[x = 2895970, y = 2601918]\n"
     ]
    }
   ],
   "source": [
    "x, y = z3.Ints('x y')\n",
    "constraints = []\n",
    "for sm_pair in sm_pairs:\n",
    "    sensor, manhattan = sm_pair\n",
    "    constraints.append(test_out_splat(sm_pair, (x,y)))\n",
    "\n",
    "sol = z3.solve([\n",
    "    0 <= x, x <= 4000000,\n",
    "    0 <= y, y <= 4000000] + constraints)"
   ],
   "metadata": {
    "collapsed": false
   }
  },
  {
   "cell_type": "code",
   "execution_count": 281,
   "outputs": [
    {
     "data": {
      "text/plain": "11583882601918"
     },
     "execution_count": 281,
     "metadata": {},
     "output_type": "execute_result"
    }
   ],
   "source": [
    "x = 2895970\n",
    "y = 2601918\n",
    "x * 4000000 + y"
   ],
   "metadata": {
    "collapsed": false
   }
  },
  {
   "cell_type": "code",
   "execution_count": null,
   "outputs": [],
   "source": [],
   "metadata": {
    "collapsed": false
   }
  }
 ],
 "metadata": {
  "kernelspec": {
   "display_name": "Python 3",
   "language": "python",
   "name": "python3"
  },
  "language_info": {
   "codemirror_mode": {
    "name": "ipython",
    "version": 2
   },
   "file_extension": ".py",
   "mimetype": "text/x-python",
   "name": "python",
   "nbconvert_exporter": "python",
   "pygments_lexer": "ipython2",
   "version": "2.7.6"
  }
 },
 "nbformat": 4,
 "nbformat_minor": 0
}
