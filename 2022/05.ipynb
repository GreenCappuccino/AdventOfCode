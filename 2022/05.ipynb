{
 "cells": [
  {
   "cell_type": "markdown",
   "source": [
    "# Input Processing"
   ],
   "metadata": {
    "collapsed": false
   }
  },
  {
   "cell_type": "code",
   "execution_count": 1,
   "metadata": {
    "collapsed": true
   },
   "outputs": [],
   "source": [
    "data = open(\"data/05.txt\", \"r\").read()"
   ]
  },
  {
   "cell_type": "code",
   "execution_count": 2,
   "outputs": [],
   "source": [
    "stacks_str, procedure_str = data.split(\"\\n\\n\")"
   ],
   "metadata": {
    "collapsed": false
   }
  },
  {
   "cell_type": "code",
   "execution_count": 3,
   "outputs": [],
   "source": [
    "stacks = stacks_str.splitlines()\n",
    "proced = procedure_str.splitlines()"
   ],
   "metadata": {
    "collapsed": false
   }
  },
  {
   "cell_type": "code",
   "execution_count": 4,
   "outputs": [],
   "source": [
    "import math"
   ],
   "metadata": {
    "collapsed": false
   }
  },
  {
   "cell_type": "code",
   "execution_count": 5,
   "outputs": [],
   "source": [
    "num_stacks = math.ceil(len(stacks[-1])/4)"
   ],
   "metadata": {
    "collapsed": false
   }
  },
  {
   "cell_type": "markdown",
   "source": [
    "# Part 1"
   ],
   "metadata": {
    "collapsed": false
   }
  },
  {
   "cell_type": "code",
   "execution_count": 6,
   "outputs": [],
   "source": [
    "work_stacks: list[list] = []\n",
    "for i in range(num_stacks):\n",
    "    work_stacks.append([])\n",
    "\n",
    "for i in range(len(stacks)-2,-1,-1):\n",
    "    for j in range(num_stacks):\n",
    "        if stacks[i][j*4+1] != \" \":\n",
    "            work_stacks[j].append(stacks[i][j*4+1])"
   ],
   "metadata": {
    "collapsed": false
   }
  },
  {
   "cell_type": "code",
   "execution_count": 7,
   "outputs": [],
   "source": [
    "def process(amount, source, target, ws):\n",
    "    for i in range(amount):\n",
    "        ws[target-1].append(ws[source-1].pop())"
   ],
   "metadata": {
    "collapsed": false
   }
  },
  {
   "cell_type": "code",
   "execution_count": 8,
   "outputs": [],
   "source": [
    "for line in proced:\n",
    "    x0, amt_str, x1, src_str, x2, tar_str = line.split(\" \")\n",
    "    amt = int(amt_str)\n",
    "    src = int(src_str)\n",
    "    tar = int(tar_str)\n",
    "    process(amt,src,tar,work_stacks)"
   ],
   "metadata": {
    "collapsed": false
   }
  },
  {
   "cell_type": "code",
   "execution_count": 9,
   "outputs": [
    {
     "name": "stdout",
     "output_type": "stream",
     "text": [
      "HNSNMTLHQ"
     ]
    }
   ],
   "source": [
    "for s in work_stacks:\n",
    "    print(s.pop(), end=\"\")"
   ],
   "metadata": {
    "collapsed": false
   }
  },
  {
   "cell_type": "markdown",
   "source": [
    "# Part 2"
   ],
   "metadata": {
    "collapsed": false
   }
  },
  {
   "cell_type": "code",
   "execution_count": 10,
   "outputs": [],
   "source": [
    "def crane9001pop(amt, index, ws):\n",
    "    hold = []\n",
    "    for i in range(amt):\n",
    "        hold.append(ws[index].pop())\n",
    "    hold.reverse()\n",
    "    return hold"
   ],
   "metadata": {
    "collapsed": false
   }
  },
  {
   "cell_type": "code",
   "execution_count": 11,
   "outputs": [],
   "source": [
    "def process(amount, source, target, ws):\n",
    "    ws[target-1] += crane9001pop(amount, source-1, ws)"
   ],
   "metadata": {
    "collapsed": false
   }
  },
  {
   "cell_type": "code",
   "execution_count": 12,
   "outputs": [],
   "source": [
    "work_stacks: list[list] = []\n",
    "for i in range(num_stacks):\n",
    "    work_stacks.append([])\n",
    "\n",
    "for i in range(len(stacks)-2,-1,-1):\n",
    "    for j in range(num_stacks):\n",
    "        if stacks[i][j*4+1] != \" \":\n",
    "            work_stacks[j].append(stacks[i][j*4+1])"
   ],
   "metadata": {
    "collapsed": false
   }
  },
  {
   "cell_type": "code",
   "execution_count": 13,
   "outputs": [],
   "source": [
    "for line in proced:\n",
    "    x0, amt_str, x1, src_str, x2, tar_str = line.split(\" \")\n",
    "    amt = int(amt_str)\n",
    "    src = int(src_str)\n",
    "    tar = int(tar_str)\n",
    "    process(amt,src,tar,work_stacks)"
   ],
   "metadata": {
    "collapsed": false
   }
  },
  {
   "cell_type": "code",
   "execution_count": 14,
   "outputs": [
    {
     "name": "stdout",
     "output_type": "stream",
     "text": [
      "RNLFDJMCT"
     ]
    }
   ],
   "source": [
    "for s in work_stacks:\n",
    "    print(s.pop(), end=\"\")"
   ],
   "metadata": {
    "collapsed": false
   }
  }
 ],
 "metadata": {
  "kernelspec": {
   "display_name": "Python 3",
   "language": "python",
   "name": "python3"
  },
  "language_info": {
   "codemirror_mode": {
    "name": "ipython",
    "version": 2
   },
   "file_extension": ".py",
   "mimetype": "text/x-python",
   "name": "python",
   "nbconvert_exporter": "python",
   "pygments_lexer": "ipython2",
   "version": "2.7.6"
  }
 },
 "nbformat": 4,
 "nbformat_minor": 0
}
