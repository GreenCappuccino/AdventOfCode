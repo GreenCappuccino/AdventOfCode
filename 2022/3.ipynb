{
 "cells": [
  {
   "cell_type": "code",
   "execution_count": 35,
   "metadata": {
    "collapsed": true
   },
   "outputs": [],
   "source": [
    "data = open(\"data.txt\", \"r\").read()"
   ]
  },
  {
   "cell_type": "code",
   "execution_count": 36,
   "outputs": [],
   "source": [
    "lines = data.splitlines()"
   ],
   "metadata": {
    "collapsed": false
   }
  },
  {
   "cell_type": "code",
   "execution_count": 37,
   "outputs": [],
   "source": [
    "top = [line[:len(line)//2] for line in lines]\n",
    "bottom = [line[len(line)//2:] for line in lines]"
   ],
   "metadata": {
    "collapsed": false
   }
  },
  {
   "cell_type": "code",
   "execution_count": 38,
   "outputs": [],
   "source": [
    "intersects = []\n",
    "for i in range(len(lines)):\n",
    "    intersects.append(list(set(top[i]) & set(bottom[i]))[0])"
   ],
   "metadata": {
    "collapsed": false
   }
  },
  {
   "cell_type": "code",
   "execution_count": 39,
   "outputs": [
    {
     "data": {
      "text/plain": "['c',\n 's',\n 'f',\n 'S',\n 'z',\n 'F',\n 'm',\n 'C',\n 'c',\n 'S',\n 'Z',\n 'j',\n 'F',\n 'd',\n 't',\n 'H',\n 'T',\n 'r',\n 'r',\n 'T',\n 't',\n 'd',\n 'b',\n 'Q',\n 'd',\n 'T',\n 's',\n 'm',\n 'C',\n 'F',\n 'C',\n 'w',\n 'q',\n 'c',\n 'P',\n 'j',\n 'Z',\n 'p',\n 'v',\n 'J',\n 'G',\n 'n',\n 't',\n 's',\n 'l',\n 'D',\n 'M',\n 'g',\n 'm',\n 'c',\n 'C',\n 'z',\n 'P',\n 'c',\n 'V',\n 'M',\n 'p',\n 'h',\n 'l',\n 'r',\n 'm',\n 'T',\n 'q',\n 'c',\n 't',\n 'Z',\n 'r',\n 's',\n 'Q',\n 'c',\n 'V',\n 'W',\n 'q',\n 'w',\n 'f',\n 'n',\n 'c',\n 'S',\n 'c',\n 'J',\n 'n',\n 's',\n 'l',\n 'p',\n 'Z',\n 'S',\n 'b',\n 'j',\n 'Q',\n 'q',\n 'z',\n 'h',\n 'G',\n 'Q',\n 'C',\n 'l',\n 'g',\n 'H',\n 'w',\n 'q',\n 's',\n 'm',\n 'R',\n 'S',\n 's',\n 'S',\n 't',\n 'h',\n 'f',\n 'r',\n 'J',\n 'v',\n 'Q',\n 'V',\n 'W',\n 'S',\n 'C',\n 'H',\n 'M',\n 'B',\n 'T',\n 'W',\n 'N',\n 'p',\n 'P',\n 'F',\n 'M',\n 'G',\n 'R',\n 'j',\n 'M',\n 'V',\n 'H',\n 'M',\n 'L',\n 'd',\n 'g',\n 'v',\n 'n',\n 'j',\n 'b',\n 'l',\n 'H',\n 'B',\n 'H',\n 'z',\n 'h',\n 'V',\n 'B',\n 'q',\n 'q',\n 'w',\n 'm',\n 'G',\n 'n',\n 'p',\n 'f',\n 'r',\n 'V',\n 'B',\n 'd',\n 'p',\n 'j',\n 'R',\n 'r',\n 'q',\n 'B',\n 'l',\n 'R',\n 'G',\n 'M',\n 'w',\n 'z',\n 'V',\n 'r',\n 'L',\n 'j',\n 'D',\n 'R',\n 'J',\n 'J',\n 'd',\n 'P',\n 'b',\n 'j',\n 'F',\n 'G',\n 'b',\n 'F',\n 'N',\n 'd',\n 'F',\n 'm',\n 'M',\n 'T',\n 'N',\n 'Z',\n 'S',\n 'V',\n 'w',\n 'q',\n 'n',\n 'R',\n 'w',\n 'D',\n 'g',\n 'r',\n 'W',\n 's',\n 'm',\n 'J',\n 'N',\n 'F',\n 'T',\n 'j',\n 'H',\n 'Q',\n 'g',\n 'L',\n 'n',\n 'H',\n 'd',\n 'D',\n 'f',\n 'W',\n 'g',\n 'd',\n 'c',\n 'N',\n 'W',\n 'b',\n 'c',\n 'T',\n 'D',\n 'l',\n 'H',\n 'b',\n 'd',\n 'v',\n 'G',\n 'W',\n 'P',\n 't',\n 'J',\n 'd',\n 'v',\n 'w',\n 'D',\n 'G',\n 'n',\n 'P',\n 'v',\n 'Q',\n 'w',\n 'q',\n 'H',\n 'M',\n 'G',\n 'W',\n 'D',\n 'p',\n 'l',\n 'w',\n 'M',\n 'g',\n 'z',\n 'n',\n 'g',\n 'b',\n 'h',\n 'h',\n 'b',\n 'w',\n 'd',\n 'J',\n 'z',\n 'm',\n 's',\n 'z',\n 'b',\n 'h',\n 'B',\n 'b',\n 'S',\n 'j',\n 'H',\n 'l',\n 'w',\n 'Q',\n 'R',\n 'p',\n 'f',\n 'V',\n 'D',\n 'd',\n 'Q',\n 'c',\n 'Z',\n 'g',\n 'f']"
     },
     "execution_count": 39,
     "metadata": {},
     "output_type": "execute_result"
    }
   ],
   "source": [
    "intersects"
   ],
   "metadata": {
    "collapsed": false
   }
  },
  {
   "cell_type": "code",
   "execution_count": 40,
   "outputs": [],
   "source": [
    "priority = {\n",
    "\"a\": 1,\n",
    "\"b\": 2,\n",
    "\"c\": 3,\n",
    "\"d\": 4,\n",
    "\"e\": 5,\n",
    "\"f\": 6,\n",
    "\"g\": 7,\n",
    "\"h\": 8,\n",
    "\"i\": 9,\n",
    "\"j\": 10,\n",
    "\"k\": 11,\n",
    "\"l\": 12,\n",
    "\"m\": 13,\n",
    "\"n\": 14,\n",
    "\"o\": 15,\n",
    "\"p\": 16,\n",
    "\"q\": 17,\n",
    "\"r\": 18,\n",
    "\"s\": 19,\n",
    "\"t\": 20,\n",
    "\"u\": 21,\n",
    "\"v\": 22,\n",
    "\"w\": 23,\n",
    "\"x\": 24,\n",
    "\"y\": 25,\n",
    "\"z\": 26,\n",
    "\"A\": 27,\n",
    "\"B\": 28,\n",
    "\"C\": 29,\n",
    "\"D\": 30,\n",
    "\"E\": 31,\n",
    "\"F\": 32,\n",
    "\"G\": 33,\n",
    "\"H\": 34,\n",
    "\"I\": 35,\n",
    "\"J\": 36,\n",
    "\"K\": 37,\n",
    "\"L\": 38,\n",
    "\"M\": 39,\n",
    "\"N\": 40,\n",
    "\"O\": 41,\n",
    "\"P\": 42,\n",
    "\"Q\": 43,\n",
    "\"R\": 44,\n",
    "\"S\": 45,\n",
    "\"T\": 46,\n",
    "\"U\": 47,\n",
    "\"V\": 48,\n",
    "\"W\": 49,\n",
    "\"X\": 50,\n",
    "\"Y\": 51,\n",
    "\"Z\": 52\n",
    "}"
   ],
   "metadata": {
    "collapsed": false
   }
  },
  {
   "cell_type": "code",
   "execution_count": 41,
   "outputs": [
    {
     "name": "stdout",
     "output_type": "stream",
     "text": [
      "7446\n"
     ]
    }
   ],
   "source": [
    "sum = 0\n",
    "for intersection in intersects:\n",
    "    sum += priority[intersection]\n",
    "print(sum)"
   ],
   "metadata": {
    "collapsed": false
   }
  },
  {
   "cell_type": "code",
   "execution_count": 42,
   "outputs": [],
   "source": [
    "triples = []\n",
    "for i in range(len(lines)//3):\n",
    "    triples.append((lines[i*3],lines[i*3+1],lines[i*3+2]))"
   ],
   "metadata": {
    "collapsed": false
   }
  },
  {
   "cell_type": "code",
   "execution_count": 43,
   "outputs": [],
   "source": [
    "intersects = []\n",
    "for triple in triples:\n",
    "    intersects.append(list(set(triple[0]) & set(triple[1]) & set(triple[2]))[0])"
   ],
   "metadata": {
    "collapsed": false
   }
  },
  {
   "cell_type": "code",
   "execution_count": 44,
   "outputs": [
    {
     "data": {
      "text/plain": "['G',\n 'r',\n 'M',\n 'r',\n 'p',\n 'F',\n 'R',\n 'C',\n 'f',\n 'w',\n 'g',\n 'T',\n 'f',\n 'C',\n 'R',\n 'G',\n 'B',\n 'L',\n 'f',\n 'm',\n 'S',\n 'Q',\n 'B',\n 'L',\n 'N',\n 'Q',\n 'z',\n 'H',\n 'r',\n 'J',\n 't',\n 'd',\n 'q',\n 'z',\n 'p',\n 'T',\n 'S',\n 'B',\n 'z',\n 'P',\n 'J',\n 'C',\n 'Z',\n 'Z',\n 'N',\n 'R',\n 'v',\n 't',\n 'G',\n 's',\n 'J',\n 'D',\n 'L',\n 'l',\n 'g',\n 'R',\n 'l',\n 'M',\n 'w',\n 'r',\n 'l',\n 'L',\n 'W',\n 'v',\n 'j',\n 'L',\n 'F',\n 'j',\n 'd',\n 'n',\n 'h',\n 'f',\n 'q',\n 'N',\n 'Q',\n 'p',\n 'F',\n 'm',\n 'f',\n 'w',\n 'p',\n 'W',\n 'c',\n 'c',\n 'f',\n 'q',\n 'F',\n 'T',\n 'T',\n 'F',\n 'm',\n 'P',\n 'h',\n 'm',\n 'q',\n 'r',\n 'g',\n 'W',\n 'w',\n 'L']"
     },
     "execution_count": 44,
     "metadata": {},
     "output_type": "execute_result"
    }
   ],
   "source": [
    "intersects"
   ],
   "metadata": {
    "collapsed": false
   }
  },
  {
   "cell_type": "code",
   "execution_count": 45,
   "outputs": [
    {
     "name": "stdout",
     "output_type": "stream",
     "text": [
      "2646\n"
     ]
    }
   ],
   "source": [
    "sum = 0\n",
    "for intersection in intersects:\n",
    "    sum += priority[intersection]\n",
    "print(sum)"
   ],
   "metadata": {
    "collapsed": false
   }
  },
  {
   "cell_type": "code",
   "execution_count": 45,
   "outputs": [],
   "source": [],
   "metadata": {
    "collapsed": false
   }
  }
 ],
 "metadata": {
  "kernelspec": {
   "display_name": "Python 3",
   "language": "python",
   "name": "python3"
  },
  "language_info": {
   "codemirror_mode": {
    "name": "ipython",
    "version": 2
   },
   "file_extension": ".py",
   "mimetype": "text/x-python",
   "name": "python",
   "nbconvert_exporter": "python",
   "pygments_lexer": "ipython2",
   "version": "2.7.6"
  }
 },
 "nbformat": 4,
 "nbformat_minor": 0
}
