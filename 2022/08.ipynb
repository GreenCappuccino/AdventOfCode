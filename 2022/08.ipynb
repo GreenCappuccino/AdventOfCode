{
 "cells": [
  {
   "cell_type": "markdown",
   "source": [
    "# Input Processing"
   ],
   "metadata": {
    "collapsed": false
   }
  },
  {
   "cell_type": "code",
   "execution_count": 1,
   "metadata": {
    "collapsed": true
   },
   "outputs": [],
   "source": [
    "data = open(\"data/08.txt\", \"r\").read()"
   ]
  },
  {
   "cell_type": "code",
   "execution_count": 2,
   "outputs": [],
   "source": [
    "lines = data.splitlines()"
   ],
   "metadata": {
    "collapsed": false
   }
  },
  {
   "cell_type": "code",
   "execution_count": 3,
   "outputs": [],
   "source": [
    "height = len(lines)"
   ],
   "metadata": {
    "collapsed": false
   }
  },
  {
   "cell_type": "code",
   "execution_count": 4,
   "outputs": [],
   "source": [
    "width = len(lines[0].strip())"
   ],
   "metadata": {
    "collapsed": false
   }
  },
  {
   "cell_type": "code",
   "execution_count": 5,
   "outputs": [],
   "source": [
    "all_height = \"\"\n",
    "for line in lines:\n",
    "    all_height += line.strip()"
   ],
   "metadata": {
    "collapsed": false
   }
  },
  {
   "cell_type": "markdown",
   "source": [
    "# Part 1"
   ],
   "metadata": {
    "collapsed": false
   }
  },
  {
   "cell_type": "code",
   "execution_count": 6,
   "outputs": [],
   "source": [
    "# set of indexes of visible trees\n",
    "visible = set()"
   ],
   "metadata": {
    "collapsed": false
   }
  },
  {
   "cell_type": "code",
   "execution_count": 7,
   "outputs": [],
   "source": [
    "# rows (LtR)\n",
    "for i in range(0, height):\n",
    "    # grab edge\n",
    "    tallest = all_height[i * width]\n",
    "    visible.add(i*width)\n",
    "    # need to iterate column-wise\n",
    "    for j in range(1, width - 1):\n",
    "        if all_height[i * width + j] > tallest:\n",
    "            tallest = all_height[i * width + j]\n",
    "            visible.add(i*width + j)"
   ],
   "metadata": {
    "collapsed": false
   }
  },
  {
   "cell_type": "code",
   "execution_count": 8,
   "outputs": [],
   "source": [
    "# rows (RtL)\n",
    "for i in range(0, height):\n",
    "    # grab edge\n",
    "    tallest = all_height[i * width + width - 1]\n",
    "    visible.add(i*width+width-1)\n",
    "    # need to iterate column-wise\n",
    "    for j in range(width - 2, 0, -1):\n",
    "        if all_height[i * width + j] > tallest:\n",
    "            tallest = all_height[i * width + j]\n",
    "            visible.add(i*width + j)"
   ],
   "metadata": {
    "collapsed": false
   }
  },
  {
   "cell_type": "code",
   "execution_count": 9,
   "outputs": [],
   "source": [
    "# columns (TtB)\n",
    "for i in range(0, width):\n",
    "    # grab edge\n",
    "    tallest = all_height[i]\n",
    "    visible.add(i)\n",
    "    # need to iterate row-wise\n",
    "    for j in range(1, width - 1):\n",
    "        if all_height[j * width + i] > tallest:\n",
    "            tallest = all_height[j * width + i]\n",
    "            visible.add(j*width + i)"
   ],
   "metadata": {
    "collapsed": false
   }
  },
  {
   "cell_type": "code",
   "execution_count": 10,
   "outputs": [],
   "source": [
    "# columns (BtT)\n",
    "for i in range(0, width):\n",
    "    # grab edge\n",
    "    tallest = all_height[width * (height - 1) + i]\n",
    "    visible.add(width*(height-1)+i)\n",
    "    # need to iterate row-wise\n",
    "    for j in range(width - 2, 0, -1):\n",
    "        if all_height[j * width + i] > tallest:\n",
    "            tallest = all_height[j * width + i]\n",
    "            visible.add(j*width + i)"
   ],
   "metadata": {
    "collapsed": false
   }
  },
  {
   "cell_type": "code",
   "execution_count": 11,
   "outputs": [
    {
     "data": {
      "text/plain": "1843"
     },
     "execution_count": 11,
     "metadata": {},
     "output_type": "execute_result"
    }
   ],
   "source": [
    "len(visible)"
   ],
   "metadata": {
    "collapsed": false
   }
  },
  {
   "cell_type": "markdown",
   "source": [
    "# Part 2"
   ],
   "metadata": {
    "collapsed": false
   }
  },
  {
   "cell_type": "code",
   "execution_count": 12,
   "outputs": [],
   "source": [
    "def scenic(row,col):\n",
    "    # rows (LtR)\n",
    "    tree_height = int(all_height[row * width + col])\n",
    "    ltr_num = -1\n",
    "    # need to iterate column-wise\n",
    "    for i in range(row*width + col, row*width + col + (width-col)):\n",
    "        ltr_num += 1\n",
    "        if int(all_height[i]) >= tree_height and i != row*width + col:\n",
    "            break\n",
    "    # rows (RtL)\n",
    "    rtl_num = -1\n",
    "    # need to iterate column-wise\n",
    "    for i in range(row*width + col, row*width-1, -1):\n",
    "        rtl_num += 1\n",
    "        if int(all_height[i]) >= tree_height and i != row*width + col:\n",
    "            break\n",
    "    # columns (TtB)\n",
    "    ttb_num = -1\n",
    "    # need to iterate column-wise\n",
    "    for i in range(row*width + col, width * height, width):\n",
    "        ttb_num += 1\n",
    "        if int(all_height[i]) >= tree_height and i != row*width + col:\n",
    "            break\n",
    "    # columns (BtT)\n",
    "    btt_num = -1\n",
    "    # need to iterate column-wise\n",
    "    for i in range(row*width + col, -1, -width):\n",
    "        btt_num += 1\n",
    "        if int(all_height[i]) >= tree_height and i != row*width + col:\n",
    "            break\n",
    "    return ltr_num*rtl_num*ttb_num*btt_num"
   ],
   "metadata": {
    "collapsed": false
   }
  },
  {
   "cell_type": "code",
   "execution_count": 13,
   "outputs": [],
   "source": [
    "scenic_scores = []\n",
    "for i in range(height):\n",
    "    for j in range(width):\n",
    "        scenic_scores.append(scenic(i, j))"
   ],
   "metadata": {
    "collapsed": false
   }
  },
  {
   "cell_type": "code",
   "execution_count": 14,
   "outputs": [
    {
     "data": {
      "text/plain": "180000"
     },
     "execution_count": 14,
     "metadata": {},
     "output_type": "execute_result"
    }
   ],
   "source": [
    "max(scenic_scores)"
   ],
   "metadata": {
    "collapsed": false
   }
  }
 ],
 "metadata": {
  "kernelspec": {
   "display_name": "Python 3",
   "language": "python",
   "name": "python3"
  },
  "language_info": {
   "codemirror_mode": {
    "name": "ipython",
    "version": 2
   },
   "file_extension": ".py",
   "mimetype": "text/x-python",
   "name": "python",
   "nbconvert_exporter": "python",
   "pygments_lexer": "ipython2",
   "version": "2.7.6"
  }
 },
 "nbformat": 4,
 "nbformat_minor": 0
}
