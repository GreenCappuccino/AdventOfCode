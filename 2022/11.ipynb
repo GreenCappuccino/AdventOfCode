{
 "cells": [
  {
   "cell_type": "markdown",
   "source": [
    "# Input Processing"
   ],
   "metadata": {
    "collapsed": false
   }
  },
  {
   "cell_type": "code",
   "execution_count": 1,
   "metadata": {
    "collapsed": true
   },
   "outputs": [],
   "source": [
    "data = open(\"data/11.txt\", \"r\").read()"
   ]
  },
  {
   "cell_type": "code",
   "execution_count": 2,
   "outputs": [],
   "source": [
    "import re"
   ],
   "metadata": {
    "collapsed": false
   }
  },
  {
   "cell_type": "code",
   "execution_count": 3,
   "outputs": [],
   "source": [
    "pattern = re.compile(r'Monkey (\\d+):\\n  Starting items: (.*)\\n  Operation: new = (.*)\\n  Test: divisible by (\\d+)\\n    If true: throw to monkey (\\d+)\\n    If false: throw to monkey (\\d+)')"
   ],
   "metadata": {
    "collapsed": false
   }
  },
  {
   "cell_type": "code",
   "execution_count": 4,
   "outputs": [],
   "source": [
    "from dataclasses import dataclass\n",
    "@dataclass\n",
    "class Monkey:\n",
    "    items: list[int] # List of items w/ worry level\n",
    "    operation: str # Operation to perform\n",
    "    test_div: int # What number to be divisible by for test\n",
    "    test_true: int # What monkey to throw to if true\n",
    "    test_false: int # What monkey to throw to if false"
   ],
   "metadata": {
    "collapsed": false
   }
  },
  {
   "cell_type": "code",
   "execution_count": 5,
   "outputs": [],
   "source": [
    "monkeys: list[Monkey] = []\n",
    "for match in pattern.findall(data):\n",
    "    monkeys.append(Monkey(\n",
    "        [int(a) for a in match[1].split(\", \")],\n",
    "        match[2],\n",
    "        int(match[3]),\n",
    "        int(match[4]),\n",
    "        int(match[5])\n",
    "    ))"
   ],
   "metadata": {
    "collapsed": false
   }
  },
  {
   "cell_type": "markdown",
   "source": [
    "# Part 1"
   ],
   "metadata": {
    "collapsed": false
   }
  },
  {
   "cell_type": "code",
   "execution_count": 6,
   "outputs": [],
   "source": [
    "inspections: list[int] = [0] * len(monkeys)"
   ],
   "metadata": {
    "collapsed": false
   }
  },
  {
   "cell_type": "code",
   "execution_count": 7,
   "outputs": [],
   "source": [
    "for _ in range(20):\n",
    "    for i in range(len(monkeys)):\n",
    "        while len(monkeys[i].items) > 0:\n",
    "            inspect = monkeys[i].items.pop(0)\n",
    "            inspections[i] += 1\n",
    "            new_worry = eval(monkeys[i].operation.replace(\"old\", str(inspect)))\n",
    "            new_worry //= 3\n",
    "            if new_worry % monkeys[i].test_div == 0:\n",
    "                monkeys[monkeys[i].test_true].items.append(new_worry)\n",
    "            else:\n",
    "                monkeys[monkeys[i].test_false].items.append(new_worry)"
   ],
   "metadata": {
    "collapsed": false
   }
  },
  {
   "cell_type": "code",
   "execution_count": 8,
   "outputs": [],
   "source": [
    "inspections.sort()"
   ],
   "metadata": {
    "collapsed": false
   }
  },
  {
   "cell_type": "code",
   "execution_count": 9,
   "outputs": [
    {
     "data": {
      "text/plain": "98280"
     },
     "execution_count": 9,
     "metadata": {},
     "output_type": "execute_result"
    }
   ],
   "source": [
    "inspections[-1] * inspections[-2]"
   ],
   "metadata": {
    "collapsed": false
   }
  },
  {
   "cell_type": "markdown",
   "source": [
    "# Part 2"
   ],
   "metadata": {
    "collapsed": false
   }
  },
  {
   "cell_type": "code",
   "execution_count": 10,
   "outputs": [],
   "source": [
    "monkeys: list[Monkey] = []\n",
    "for match in pattern.findall(data):\n",
    "    monkeys.append(Monkey(\n",
    "        [int(a) for a in match[1].split(\", \")],\n",
    "        match[2],\n",
    "        int(match[3]),\n",
    "        int(match[4]),\n",
    "        int(match[5])\n",
    "    ))"
   ],
   "metadata": {
    "collapsed": false
   }
  },
  {
   "cell_type": "code",
   "execution_count": 11,
   "outputs": [],
   "source": [
    "inspections: list[int] = [0] * len(monkeys)"
   ],
   "metadata": {
    "collapsed": false
   }
  },
  {
   "cell_type": "code",
   "execution_count": 12,
   "outputs": [],
   "source": [
    "import math\n",
    "mod = math.lcm(*(monkey.test_div for monkey in monkeys))"
   ],
   "metadata": {
    "collapsed": false
   }
  },
  {
   "cell_type": "code",
   "execution_count": 13,
   "outputs": [],
   "source": [
    "for _ in range(10000):\n",
    "    for i in range(len(monkeys)):\n",
    "        while len(monkeys[i].items) > 0:\n",
    "            inspect = monkeys[i].items.pop(0)\n",
    "            inspections[i] += 1\n",
    "            new_worry = eval(monkeys[i].operation.replace(\"old\", str(inspect))) % mod\n",
    "            if new_worry % monkeys[i].test_div == 0:\n",
    "                monkeys[monkeys[i].test_true].items.append(new_worry)\n",
    "            else:\n",
    "                monkeys[monkeys[i].test_false].items.append(new_worry)"
   ],
   "metadata": {
    "collapsed": false
   }
  },
  {
   "cell_type": "code",
   "execution_count": 14,
   "outputs": [],
   "source": [
    "inspections.sort()"
   ],
   "metadata": {
    "collapsed": false
   }
  },
  {
   "cell_type": "code",
   "execution_count": 15,
   "outputs": [
    {
     "data": {
      "text/plain": "17673687232"
     },
     "execution_count": 15,
     "metadata": {},
     "output_type": "execute_result"
    }
   ],
   "source": [
    "inspections[-1] * inspections[-2]"
   ],
   "metadata": {
    "collapsed": false
   }
  }
 ],
 "metadata": {
  "kernelspec": {
   "display_name": "Python 3",
   "language": "python",
   "name": "python3"
  },
  "language_info": {
   "codemirror_mode": {
    "name": "ipython",
    "version": 2
   },
   "file_extension": ".py",
   "mimetype": "text/x-python",
   "name": "python",
   "nbconvert_exporter": "python",
   "pygments_lexer": "ipython2",
   "version": "2.7.6"
  }
 },
 "nbformat": 4,
 "nbformat_minor": 0
}
