{
 "cells": [
  {
   "cell_type": "code",
   "execution_count": 295,
   "metadata": {
    "collapsed": true
   },
   "outputs": [],
   "source": [
    "from __future__ import annotations\n",
    "\n",
    "data = open(\"data/22.txt\", \"r\").read()"
   ]
  },
  {
   "cell_type": "code",
   "execution_count": 296,
   "outputs": [],
   "source": [
    "map_str, instructions_str = data.split(\"\\n\\n\")"
   ],
   "metadata": {
    "collapsed": false
   }
  },
  {
   "cell_type": "markdown",
   "source": [
    "# Part 1"
   ],
   "metadata": {
    "collapsed": false
   }
  },
  {
   "cell_type": "code",
   "execution_count": 297,
   "outputs": [],
   "source": [
    "from dataclasses import dataclass\n",
    "\n",
    "\n",
    "class Node:\n",
    "    value: str\n",
    "    coord: tuple[int, int]\n",
    "    edges: dict[int, Node]\n",
    "\n",
    "    def __init__(self, value, coord, edges):\n",
    "        self.value = value\n",
    "        self.coord = coord\n",
    "        self.edges = edges\n",
    "\n",
    "    def __repr__(self):\n",
    "        return f\"{self.value} with neighbors {[f'{edge_index}: {edge_node.value}, ' for edge_index, edge_node in self.edges.items()]}\""
   ],
   "metadata": {
    "collapsed": false
   }
  },
  {
   "cell_type": "code",
   "execution_count": 298,
   "outputs": [],
   "source": [
    "grid_map: dict[tuple[int, int], Node] = {}"
   ],
   "metadata": {
    "collapsed": false
   }
  },
  {
   "cell_type": "code",
   "execution_count": 299,
   "outputs": [],
   "source": [
    "map_lines = map_str.splitlines()\n",
    "\n",
    "# Let's pad our rows\n",
    "max_col_index = 0\n",
    "\n",
    "for row in map_lines:\n",
    "    max_col_index = max(len(row) - 1, max_col_index)\n",
    "\n",
    "for i in range(len(map_lines)):\n",
    "    map_lines[i] = map_lines[i].ljust(max_col_index + 1, \" \")"
   ],
   "metadata": {
    "collapsed": false
   }
  },
  {
   "cell_type": "code",
   "execution_count": 300,
   "outputs": [],
   "source": [
    "#  3\n",
    "# 2*0\n",
    "#  1\n",
    "\n",
    "left_top_node = None\n",
    "col_start_nodes: dict[int, Node] = {}\n",
    "col_end_nodes: dict[int, Node] = {}\n",
    "for row_index, row in enumerate(map_lines):\n",
    "    row_start_node = None\n",
    "    last_node = None\n",
    "    for char_index, char in enumerate(row):\n",
    "        if char == \" \":\n",
    "            if (row_index - 1, char_index) in grid_map:\n",
    "                col_end_nodes[char_index] = grid_map[(row_index - 1, char_index)]\n",
    "            continue\n",
    "\n",
    "        new_node = Node(\n",
    "            value=char,\n",
    "            coord=(char_index, row_index),\n",
    "            edges={}\n",
    "        )\n",
    "        grid_map[(row_index, char_index)] = new_node\n",
    "\n",
    "        # Detect if this is the first node ever\n",
    "        if row_index == 0 and row_start_node is None:\n",
    "            left_top_node = new_node\n",
    "\n",
    "        # Setup row start node\n",
    "        if row_start_node is None:\n",
    "            row_start_node = new_node\n",
    "        # Setup col start node\n",
    "        if char_index not in col_start_nodes:\n",
    "            col_start_nodes[char_index] = new_node\n",
    "\n",
    "        # Patch neighbor node (horizontal)\n",
    "        if last_node is not None:\n",
    "            new_node.edges[2] = last_node\n",
    "            last_node.edges[0] = new_node\n",
    "\n",
    "        # Patch neighbor node (vertical)\n",
    "        if (row_index - 1, char_index) in grid_map:\n",
    "            new_node.edges[3] = grid_map[(row_index - 1, char_index)]\n",
    "            grid_map[(row_index - 1, char_index)].edges[1] = new_node\n",
    "\n",
    "        # Detect last col and patch\n",
    "        if char_index + 1 == len(row) or ((char_index + 1) < len(row) and row[char_index + 1] == \" \"):\n",
    "            new_node.edges[0] = row_start_node\n",
    "            row_start_node.edges[2] = new_node\n",
    "\n",
    "        # Detect last row and add to col_end_nodes\n",
    "        if row_index + 1 == len(map_lines):\n",
    "            col_end_nodes[char_index] = new_node\n",
    "\n",
    "        # Update last\n",
    "        last_node = new_node\n",
    "\n",
    "# Patch columns\n",
    "for i in range(max_col_index + 1):\n",
    "    col_start_nodes[i].edges[3] = col_end_nodes[i]\n",
    "    col_end_nodes[i].edges[1] = col_start_nodes[i]"
   ],
   "metadata": {
    "collapsed": false
   }
  },
  {
   "cell_type": "code",
   "execution_count": 301,
   "outputs": [],
   "source": [
    "import re\n",
    "\n",
    "token_pattern = re.compile(r\"(R|L|(?:\\d+))\")\n",
    "tokens = token_pattern.findall(instructions_str)\n",
    "tokens = [int(token) if token not in (\"R\", \"L\") else token for token in tokens]"
   ],
   "metadata": {
    "collapsed": false
   }
  },
  {
   "cell_type": "code",
   "execution_count": 302,
   "outputs": [],
   "source": [
    "facing_map = {\n",
    "    0: (1, 0),\n",
    "    1: (0, -1),\n",
    "    2: (-1, 0),\n",
    "    3: (0, 1)\n",
    "}"
   ],
   "metadata": {
    "collapsed": false
   }
  },
  {
   "cell_type": "code",
   "execution_count": 303,
   "outputs": [],
   "source": [
    "turning_map = {\"R\": 1, \"L\": -1}"
   ],
   "metadata": {
    "collapsed": false
   }
  },
  {
   "cell_type": "code",
   "execution_count": 304,
   "outputs": [],
   "source": [
    "current_node = left_top_node\n",
    "current_direction = 0\n",
    "for token in tokens:\n",
    "    match token:\n",
    "        case str():\n",
    "            current_direction = (current_direction + turning_map[token]) % 4\n",
    "        case int():\n",
    "            for _ in range(token):\n",
    "                if current_node.edges[current_direction].value == \"#\":\n",
    "                    break\n",
    "                current_node = current_node.edges[current_direction]"
   ],
   "metadata": {
    "collapsed": false
   }
  },
  {
   "cell_type": "code",
   "execution_count": 305,
   "outputs": [
    {
     "data": {
      "text/plain": "95358"
     },
     "execution_count": 305,
     "metadata": {},
     "output_type": "execute_result"
    }
   ],
   "source": [
    "(current_node.coord[1] + 1) * 1000 + (current_node.coord[0] + 1) * 4 + current_direction"
   ],
   "metadata": {
    "collapsed": false
   }
  },
  {
   "cell_type": "markdown",
   "source": [
    "# Part 2"
   ],
   "metadata": {
    "collapsed": false
   }
  },
  {
   "cell_type": "code",
   "execution_count": null,
   "outputs": [],
   "source": [],
   "metadata": {
    "collapsed": false
   }
  }
 ],
 "metadata": {
  "kernelspec": {
   "display_name": "Python 3",
   "language": "python",
   "name": "python3"
  },
  "language_info": {
   "codemirror_mode": {
    "name": "ipython",
    "version": 2
   },
   "file_extension": ".py",
   "mimetype": "text/x-python",
   "name": "python",
   "nbconvert_exporter": "python",
   "pygments_lexer": "ipython2",
   "version": "2.7.6"
  }
 },
 "nbformat": 4,
 "nbformat_minor": 0
}
