{
 "cells": [
  {
   "cell_type": "code",
   "execution_count": 195,
   "metadata": {
    "collapsed": true
   },
   "outputs": [],
   "source": [
    "from __future__ import annotations\n",
    "\n",
    "data = open(\"data/22.txt\", \"r\").read()"
   ]
  },
  {
   "cell_type": "code",
   "execution_count": 196,
   "outputs": [],
   "source": [
    "map_str, instructions_str = data.split(\"\\n\\n\")"
   ],
   "metadata": {
    "collapsed": false
   }
  },
  {
   "cell_type": "markdown",
   "source": [
    "# Part 1"
   ],
   "metadata": {
    "collapsed": false
   }
  },
  {
   "cell_type": "code",
   "execution_count": 197,
   "outputs": [],
   "source": [
    "class Node:\n",
    "    value: str\n",
    "    coord: tuple[int, int]\n",
    "    edges: dict[int, Node]\n",
    "\n",
    "    def __init__(self, value, coord, edges):\n",
    "        self.value = value\n",
    "        self.coord = coord\n",
    "        self.edges = edges\n",
    "\n",
    "    def __repr__(self):\n",
    "        return f\"{self.value} with neighbors {[f'{edge_index}: {edge_node.value}, ' for edge_index, edge_node in self.edges.items()]}\""
   ],
   "metadata": {
    "collapsed": false
   }
  },
  {
   "cell_type": "code",
   "execution_count": 198,
   "outputs": [],
   "source": [
    "grid_map: dict[tuple[int, int], Node] = {}"
   ],
   "metadata": {
    "collapsed": false
   }
  },
  {
   "cell_type": "code",
   "execution_count": 199,
   "outputs": [],
   "source": [
    "map_lines = map_str.splitlines()\n",
    "\n",
    "# Let's pad our rows\n",
    "max_col_index = 0\n",
    "\n",
    "for row in map_lines:\n",
    "    max_col_index = max(len(row) - 1, max_col_index)\n",
    "\n",
    "for i in range(len(map_lines)):\n",
    "    map_lines[i] = map_lines[i].ljust(max_col_index + 1, \" \")"
   ],
   "metadata": {
    "collapsed": false
   }
  },
  {
   "cell_type": "code",
   "execution_count": 200,
   "outputs": [],
   "source": [
    "#  3\n",
    "# 2*0\n",
    "#  1\n",
    "\n",
    "left_top_node = None\n",
    "col_start_nodes: dict[int, Node] = {}\n",
    "col_end_nodes: dict[int, Node] = {}\n",
    "for row_index, row in enumerate(map_lines):\n",
    "    row_start_node = None\n",
    "    last_node = None\n",
    "    for char_index, char in enumerate(row):\n",
    "        if char == \" \":\n",
    "            if (row_index - 1, char_index) in grid_map:\n",
    "                col_end_nodes[char_index] = grid_map[(row_index - 1, char_index)]\n",
    "            continue\n",
    "\n",
    "        new_node = Node(\n",
    "            value=char,\n",
    "            coord=(char_index, row_index),\n",
    "            edges={}\n",
    "        )\n",
    "        grid_map[(row_index, char_index)] = new_node\n",
    "\n",
    "        # Detect if this is the first node ever\n",
    "        if row_index == 0 and row_start_node is None:\n",
    "            left_top_node = new_node\n",
    "\n",
    "        # Setup row start node\n",
    "        if row_start_node is None:\n",
    "            row_start_node = new_node\n",
    "        # Setup col start node\n",
    "        if char_index not in col_start_nodes:\n",
    "            col_start_nodes[char_index] = new_node\n",
    "\n",
    "        # Patch neighbor node (horizontal)\n",
    "        if last_node is not None:\n",
    "            new_node.edges[2] = last_node\n",
    "            last_node.edges[0] = new_node\n",
    "\n",
    "        # Patch neighbor node (vertical)\n",
    "        if (row_index - 1, char_index) in grid_map:\n",
    "            new_node.edges[3] = grid_map[(row_index - 1, char_index)]\n",
    "            grid_map[(row_index - 1, char_index)].edges[1] = new_node\n",
    "\n",
    "        # Detect last col and patch\n",
    "        if char_index + 1 == len(row) or ((char_index + 1) < len(row) and row[char_index + 1] == \" \"):\n",
    "            new_node.edges[0] = row_start_node\n",
    "            row_start_node.edges[2] = new_node\n",
    "\n",
    "        # Detect last row and add to col_end_nodes\n",
    "        if row_index + 1 == len(map_lines):\n",
    "            col_end_nodes[char_index] = new_node\n",
    "\n",
    "        # Update last\n",
    "        last_node = new_node\n",
    "\n",
    "# Patch columns\n",
    "for i in range(max_col_index + 1):\n",
    "    col_start_nodes[i].edges[3] = col_end_nodes[i]\n",
    "    col_end_nodes[i].edges[1] = col_start_nodes[i]"
   ],
   "metadata": {
    "collapsed": false
   }
  },
  {
   "cell_type": "code",
   "execution_count": 201,
   "outputs": [],
   "source": [
    "import re\n",
    "\n",
    "token_pattern = re.compile(r\"(R|L|(?:\\d+))\")\n",
    "tokens = token_pattern.findall(instructions_str)\n",
    "tokens = [int(token) if token not in (\"R\", \"L\") else token for token in tokens]"
   ],
   "metadata": {
    "collapsed": false
   }
  },
  {
   "cell_type": "code",
   "execution_count": 202,
   "outputs": [],
   "source": [
    "facing_map = {\n",
    "    0: (1, 0),\n",
    "    1: (0, -1),\n",
    "    2: (-1, 0),\n",
    "    3: (0, 1)\n",
    "}"
   ],
   "metadata": {
    "collapsed": false
   }
  },
  {
   "cell_type": "code",
   "execution_count": 203,
   "outputs": [],
   "source": [
    "turning_map = {\"R\": 1, \"L\": -1}"
   ],
   "metadata": {
    "collapsed": false
   }
  },
  {
   "cell_type": "code",
   "execution_count": 204,
   "outputs": [],
   "source": [
    "current_node = left_top_node\n",
    "current_direction = 0\n",
    "for token in tokens:\n",
    "    match token:\n",
    "        case str():\n",
    "            current_direction = (current_direction + turning_map[token]) % 4\n",
    "        case int():\n",
    "            for _ in range(token):\n",
    "                if current_node.edges[current_direction].value == \"#\":\n",
    "                    break\n",
    "                current_node = current_node.edges[current_direction]"
   ],
   "metadata": {
    "collapsed": false
   }
  },
  {
   "cell_type": "code",
   "execution_count": 205,
   "outputs": [
    {
     "data": {
      "text/plain": "6032"
     },
     "execution_count": 205,
     "metadata": {},
     "output_type": "execute_result"
    }
   ],
   "source": [
    "(current_node.coord[1] + 1) * 1000 + (current_node.coord[0] + 1) * 4 + current_direction"
   ],
   "metadata": {
    "collapsed": false
   }
  },
  {
   "cell_type": "markdown",
   "source": [
    "# Part 2"
   ],
   "metadata": {
    "collapsed": false
   }
  },
  {
   "cell_type": "code",
   "execution_count": 206,
   "outputs": [],
   "source": [
    "class Node:\n",
    "    value: str\n",
    "    coord: tuple[int, int]\n",
    "    edges: dict[int, Node]\n",
    "    compensation: dict[int, int]\n",
    "\n",
    "    def __init__(self, value, coord, edges, compensation):\n",
    "        self.value = value\n",
    "        self.coord = coord\n",
    "        self.edges = edges\n",
    "        self.compensation = compensation\n",
    "\n",
    "    def __repr__(self):\n",
    "        return f\"{self.value} with neighbors {[f'{edge_index}: {edge_node.value}, ' for edge_index, edge_node in self.edges.items()]}\""
   ],
   "metadata": {
    "collapsed": false
   }
  },
  {
   "cell_type": "code",
   "execution_count": 207,
   "outputs": [],
   "source": [
    "grid_map = {}"
   ],
   "metadata": {
    "collapsed": false
   }
  },
  {
   "cell_type": "code",
   "execution_count": 208,
   "outputs": [],
   "source": [
    "#  3\n",
    "# 2*0\n",
    "#  1\n",
    "\n",
    "left_top_node = None\n",
    "row_start_nodes: dict[int, Node] = {}\n",
    "row_end_nodes: dict[int, Node] = {}\n",
    "col_start_nodes: dict[int, Node] = {}\n",
    "col_end_nodes: dict[int, Node] = {}\n",
    "for row_index, row in enumerate(map_lines):\n",
    "    row_start_node = None\n",
    "    last_node = None\n",
    "    for char_index, char in enumerate(row):\n",
    "        if char == \" \":\n",
    "            if (row_index - 1, char_index) in grid_map:\n",
    "                col_end_nodes[char_index] = grid_map[(row_index - 1, char_index)]\n",
    "            continue\n",
    "\n",
    "        new_node = Node(\n",
    "            value=char,\n",
    "            coord=(row_index, char_index),\n",
    "            edges={},\n",
    "            compensation={}\n",
    "        )\n",
    "        grid_map[(row_index, char_index)] = new_node\n",
    "\n",
    "        # Detect if this is the first node ever\n",
    "        if row_index == 0 and row_start_node is None:\n",
    "            left_top_node = new_node\n",
    "\n",
    "        # Setup row start node, add to row_start_nodes\n",
    "        if row_start_node is None:\n",
    "            row_start_node = new_node\n",
    "            row_start_nodes[row_index] = new_node\n",
    "\n",
    "        # Setup col start node\n",
    "        if char_index not in col_start_nodes:\n",
    "            col_start_nodes[char_index] = new_node\n",
    "\n",
    "        # Patch neighbor node (horizontal)\n",
    "        if last_node is not None:\n",
    "            new_node.edges[2] = last_node\n",
    "            last_node.edges[0] = new_node\n",
    "\n",
    "        # Patch neighbor node (vertical)\n",
    "        if (row_index - 1, char_index) in grid_map:\n",
    "            new_node.edges[3] = grid_map[(row_index - 1, char_index)]\n",
    "            grid_map[(row_index - 1, char_index)].edges[1] = new_node\n",
    "\n",
    "        # Detect last col and patch\n",
    "        if char_index + 1 == len(row) or ((char_index + 1) < len(row) and row[char_index + 1] == \" \"):\n",
    "            row_end_nodes[row_index] = new_node\n",
    "\n",
    "        # Detect last row and add to col_end_nodes\n",
    "        if row_index + 1 == len(map_lines):\n",
    "            col_end_nodes[char_index] = new_node\n",
    "\n",
    "        # Update last\n",
    "        last_node = new_node"
   ],
   "metadata": {
    "collapsed": false
   }
  },
  {
   "cell_type": "markdown",
   "source": [
    "## Let's hardcode these stitches yeah!!!"
   ],
   "metadata": {
    "collapsed": false
   }
  },
  {
   "cell_type": "code",
   "execution_count": 209,
   "outputs": [],
   "source": [
    "from dataclasses import dataclass\n",
    "\n",
    "@dataclass(slots=True)\n",
    "class Stitch:\n",
    "    from_coords: list[tuple[int, int]]\n",
    "    to_coords: list[tuple[int, int]]\n",
    "    from_facing: int\n",
    "    to_facing: int\n",
    "    facing_compensation: int"
   ],
   "metadata": {
    "collapsed": false
   }
  },
  {
   "cell_type": "code",
   "execution_count": 210,
   "outputs": [],
   "source": [
    "#  3\n",
    "# 2*0\n",
    "#  1\n",
    "stitch_map: dict[str, list[Stitch]] = {\n",
    "    \"SAMPLE\": [\n",
    "        Stitch(\n",
    "            from_coords=[col_start_nodes[x].coord for x in range(0,4)],\n",
    "            to_coords=[col_start_nodes[x].coord for x in reversed(range(8,12))],\n",
    "            from_facing=3,\n",
    "            to_facing=3,\n",
    "            facing_compensation=2),\n",
    "        Stitch(\n",
    "            from_coords=[col_start_nodes[x].coord for x in range(4,8)],\n",
    "            to_coords=[row_start_nodes[x].coord for x in range(0,4)],\n",
    "            from_facing=3,\n",
    "            to_facing=2,\n",
    "            facing_compensation=1),\n",
    "        Stitch(\n",
    "            from_coords=[row_end_nodes[x].coord for x in range(0,4)],\n",
    "            to_coords=[row_end_nodes[x].coord for x in reversed(range(8,12))],\n",
    "            from_facing=0,\n",
    "            to_facing=0,\n",
    "            facing_compensation=2),\n",
    "        Stitch(\n",
    "            from_coords=[row_end_nodes[x].coord for x in range(4,8)],\n",
    "            to_coords=[col_start_nodes[x].coord for x in reversed(range(12,16))],\n",
    "            from_facing=0,\n",
    "            to_facing=3,\n",
    "            facing_compensation=1),\n",
    "        Stitch(\n",
    "            from_coords=[col_end_nodes[x].coord for x in reversed(range(12,16))],\n",
    "            to_coords=[row_start_nodes[x].coord for x in range(4,8)],\n",
    "            from_facing=1,\n",
    "            to_facing=2,\n",
    "            facing_compensation=-1),\n",
    "        Stitch(\n",
    "            from_coords=[col_end_nodes[x].coord for x in range(0,4)],\n",
    "            to_coords=[col_end_nodes[x].coord for x in reversed(range(8,12))],\n",
    "            from_facing=1,\n",
    "            to_facing=1,\n",
    "            facing_compensation=2),\n",
    "        Stitch(\n",
    "            from_coords=[col_end_nodes[x].coord for x in range(4,8)],\n",
    "            to_coords=[row_start_nodes[x].coord for x in range(8,12)],\n",
    "            from_facing=1,\n",
    "            to_facing=2,\n",
    "            facing_compensation=-1)\n",
    "    ],\n",
    "    \"DATA\": []\n",
    "}"
   ],
   "metadata": {
    "collapsed": false
   }
  },
  {
   "cell_type": "code",
   "execution_count": 211,
   "outputs": [],
   "source": [
    "stitch_mode = \"SAMPLE\"\n",
    "stitches = stitch_map[stitch_mode]"
   ],
   "metadata": {
    "collapsed": false
   }
  },
  {
   "cell_type": "code",
   "execution_count": 212,
   "outputs": [],
   "source": [
    "# STITCH!!!\n",
    "for stitch in stitches:\n",
    "    assert len(stitch.from_coords) == len(stitch.to_coords)\n",
    "\n",
    "    for i in range(len(stitch.from_coords)):\n",
    "        # Stitch node\n",
    "        grid_map[stitch.from_coords[i]].edges[stitch.from_facing] = grid_map[stitch.to_coords[i]]\n",
    "        grid_map[stitch.to_coords[i]].edges[stitch.to_facing] = grid_map[stitch.from_coords[i]]\n",
    "        # Add boundary facing compensation\n",
    "        grid_map[stitch.from_coords[i]].compensation[stitch.from_facing] = stitch.facing_compensation\n",
    "        grid_map[stitch.to_coords[i]].compensation[stitch.to_facing] = -1 * stitch.facing_compensation"
   ],
   "metadata": {
    "collapsed": false
   }
  },
  {
   "cell_type": "code",
   "execution_count": 213,
   "outputs": [],
   "source": [
    "current_node = left_top_node\n",
    "current_direction = 0\n",
    "for token in tokens:\n",
    "    match token:\n",
    "        case str():\n",
    "            current_direction = (current_direction + turning_map[token]) % 4\n",
    "        case int():\n",
    "            for _ in range(token):\n",
    "                if current_node.edges[current_direction].value == \"#\":\n",
    "                    break\n",
    "                compensation = 0\n",
    "                if current_direction in current_node.compensation:\n",
    "                    compensation = current_node.compensation[current_direction]\n",
    "                current_node = current_node.edges[current_direction]\n",
    "                current_direction = (current_direction + compensation) % 4"
   ],
   "metadata": {
    "collapsed": false
   }
  },
  {
   "cell_type": "code",
   "execution_count": 214,
   "outputs": [
    {
     "data": {
      "text/plain": "5031"
     },
     "execution_count": 214,
     "metadata": {},
     "output_type": "execute_result"
    }
   ],
   "source": [
    "(current_node.coord[0] + 1) * 1000 + (current_node.coord[1] + 1) * 4 + current_direction"
   ],
   "metadata": {
    "collapsed": false
   }
  }
 ],
 "metadata": {
  "kernelspec": {
   "display_name": "Python 3",
   "language": "python",
   "name": "python3"
  },
  "language_info": {
   "codemirror_mode": {
    "name": "ipython",
    "version": 2
   },
   "file_extension": ".py",
   "mimetype": "text/x-python",
   "name": "python",
   "nbconvert_exporter": "python",
   "pygments_lexer": "ipython2",
   "version": "2.7.6"
  }
 },
 "nbformat": 4,
 "nbformat_minor": 0
}
