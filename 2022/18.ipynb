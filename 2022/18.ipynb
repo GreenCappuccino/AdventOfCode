{
 "cells": [
  {
   "cell_type": "code",
   "execution_count": 114,
   "metadata": {
    "collapsed": true
   },
   "outputs": [],
   "source": [
    "data = open(\"data.txt\", \"r\").read()"
   ]
  },
  {
   "cell_type": "code",
   "execution_count": 115,
   "outputs": [],
   "source": [
    "coords: set[tuple[int, ...]] = set(tuple(int(coord) for coord in line.split(\",\")) for line in data.splitlines())"
   ],
   "metadata": {
    "collapsed": false
   }
  },
  {
   "cell_type": "code",
   "execution_count": 116,
   "outputs": [],
   "source": [
    "total_exposure = 6 * len(coords)"
   ],
   "metadata": {
    "collapsed": false
   }
  },
  {
   "cell_type": "code",
   "execution_count": 117,
   "outputs": [],
   "source": [
    "directions: list[tuple[int, ...]] = [\n",
    "    (1,0,0),\n",
    "    (-1,0,0),\n",
    "    (0,1,0),\n",
    "    (0,-1,0),\n",
    "    (0,0,1),\n",
    "    (0,0,-1),\n",
    "]"
   ],
   "metadata": {
    "collapsed": false
   }
  },
  {
   "cell_type": "code",
   "execution_count": 118,
   "outputs": [],
   "source": [
    "def add_tuple(a: tuple[int, ...], b: tuple[int, ...]):\n",
    "    assert len(a) == len(b)\n",
    "    return tuple(a[i] + b[i] for i in range(len(a)))"
   ],
   "metadata": {
    "collapsed": false
   }
  },
  {
   "cell_type": "code",
   "execution_count": 119,
   "outputs": [],
   "source": [
    "for coord in coords:\n",
    "    for direction in directions:\n",
    "        if add_tuple(coord, direction) in coords:\n",
    "            total_exposure -= 1"
   ],
   "metadata": {
    "collapsed": false
   }
  },
  {
   "cell_type": "code",
   "execution_count": 120,
   "outputs": [
    {
     "data": {
      "text/plain": "3470"
     },
     "execution_count": 120,
     "metadata": {},
     "output_type": "execute_result"
    }
   ],
   "source": [
    "total_exposure"
   ],
   "metadata": {
    "collapsed": false
   }
  },
  {
   "cell_type": "markdown",
   "source": [
    "## Part 2"
   ],
   "metadata": {
    "collapsed": false
   }
  },
  {
   "cell_type": "code",
   "execution_count": 121,
   "outputs": [],
   "source": [
    "import math\n",
    "min_x = math.inf\n",
    "min_y = math.inf\n",
    "min_z = math.inf\n",
    "max_x = -math.inf\n",
    "max_y = -math.inf\n",
    "max_z = -math.inf\n",
    "for coord in coords:\n",
    "    min_x = min(coord[0], min_x)\n",
    "    min_y = min(coord[1], min_y)\n",
    "    min_z = min(coord[2], min_z)\n",
    "    max_x = max(coord[0], max_x)\n",
    "    max_y = max(coord[1], max_y)\n",
    "    max_z = max(coord[2], max_z)"
   ],
   "metadata": {
    "collapsed": false
   }
  },
  {
   "cell_type": "code",
   "execution_count": 122,
   "outputs": [],
   "source": [
    "def in_test_cube(a):\n",
    "    # The test cube is defined as a 1 layer thick water layer outside the bounding box of the coords\n",
    "    return min_x - 1  <= a[0] <= max_x + 1 and min_y - 1  <= a[1] <= max_y + 1 and min_z - 1  <= a[2] <= max_z + 1"
   ],
   "metadata": {
    "collapsed": false
   }
  },
  {
   "cell_type": "code",
   "execution_count": 123,
   "outputs": [],
   "source": [
    "visited = set()\n",
    "stack = [(min_x, min_y, min_z)]\n",
    "visited.add(stack[-1])\n",
    "external_exposure = 0\n",
    "while len(stack) > 0:\n",
    "    hand = stack.pop()\n",
    "\n",
    "    for direction in directions:\n",
    "        test_coord = add_tuple(hand, direction)\n",
    "        if test_coord in coords or not in_test_cube(test_coord) or test_coord in visited:\n",
    "            continue\n",
    "        stack.append(test_coord)\n",
    "        visited.add(test_coord)\n",
    "\n",
    "        for direction in directions:\n",
    "            if add_tuple(test_coord, direction) in coords:\n",
    "                external_exposure += 1"
   ],
   "metadata": {
    "collapsed": false
   }
  },
  {
   "cell_type": "code",
   "execution_count": 124,
   "outputs": [
    {
     "data": {
      "text/plain": "1986"
     },
     "execution_count": 124,
     "metadata": {},
     "output_type": "execute_result"
    }
   ],
   "source": [
    "external_exposure"
   ],
   "metadata": {
    "collapsed": false
   }
  },
  {
   "cell_type": "code",
   "execution_count": 124,
   "outputs": [],
   "source": [],
   "metadata": {
    "collapsed": false
   }
  }
 ],
 "metadata": {
  "kernelspec": {
   "display_name": "Python 3",
   "language": "python",
   "name": "python3"
  },
  "language_info": {
   "codemirror_mode": {
    "name": "ipython",
    "version": 2
   },
   "file_extension": ".py",
   "mimetype": "text/x-python",
   "name": "python",
   "nbconvert_exporter": "python",
   "pygments_lexer": "ipython2",
   "version": "2.7.6"
  }
 },
 "nbformat": 4,
 "nbformat_minor": 0
}
