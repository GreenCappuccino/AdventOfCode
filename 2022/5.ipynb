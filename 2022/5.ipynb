{
 "cells": [
  {
   "cell_type": "code",
   "execution_count": 125,
   "metadata": {
    "collapsed": true
   },
   "outputs": [],
   "source": [
    "data = open(\"data.txt\", \"r\").read()"
   ]
  },
  {
   "cell_type": "code",
   "execution_count": 126,
   "outputs": [],
   "source": [
    "stacks_str, procedure_str = data.split(\"\\n\\n\")"
   ],
   "metadata": {
    "collapsed": false
   }
  },
  {
   "cell_type": "code",
   "execution_count": 127,
   "outputs": [],
   "source": [
    "stacks = stacks_str.splitlines()\n",
    "proced = procedure_str.splitlines()"
   ],
   "metadata": {
    "collapsed": false
   }
  },
  {
   "cell_type": "code",
   "execution_count": 128,
   "outputs": [],
   "source": [
    "import math"
   ],
   "metadata": {
    "collapsed": false
   }
  },
  {
   "cell_type": "code",
   "execution_count": 129,
   "outputs": [],
   "source": [
    "num_stacks = math.ceil(len(stacks[-1])/4)"
   ],
   "metadata": {
    "collapsed": false
   }
  },
  {
   "cell_type": "code",
   "execution_count": 130,
   "outputs": [
    {
     "data": {
      "text/plain": "9"
     },
     "execution_count": 130,
     "metadata": {},
     "output_type": "execute_result"
    }
   ],
   "source": [
    "num_stacks"
   ],
   "metadata": {
    "collapsed": false
   }
  },
  {
   "cell_type": "code",
   "execution_count": 131,
   "outputs": [],
   "source": [
    "work_stacks: list[list] = []\n",
    "for i in range(num_stacks):\n",
    "    work_stacks.append([])\n",
    "\n",
    "for i in range(len(stacks)-2,-1,-1):\n",
    "    for j in range(num_stacks):\n",
    "        if stacks[i][j*4+1] != \" \":\n",
    "            work_stacks[j].append(stacks[i][j*4+1])"
   ],
   "metadata": {
    "collapsed": false
   }
  },
  {
   "cell_type": "code",
   "execution_count": 132,
   "outputs": [],
   "source": [
    "def process(amount, source, target, ws):\n",
    "    for i in range(amount):\n",
    "        ws[target-1].append(ws[source-1].pop())"
   ],
   "metadata": {
    "collapsed": false
   }
  },
  {
   "cell_type": "code",
   "execution_count": 133,
   "outputs": [],
   "source": [
    "for line in proced:\n",
    "    x0, amt_str, x1, src_str, x2, tar_str = line.split(\" \")\n",
    "    amt = int(amt_str)\n",
    "    src = int(src_str)\n",
    "    tar = int(tar_str)\n",
    "    process(amt,src,tar,work_stacks)"
   ],
   "metadata": {
    "collapsed": false
   }
  },
  {
   "cell_type": "code",
   "execution_count": 134,
   "outputs": [
    {
     "data": {
      "text/plain": "[['C', 'M', 'N', 'H'],\n ['J', 'N'],\n ['S'],\n ['L', 'L', 'V', 'N'],\n ['C', 'L', 'D', 'M'],\n ['M',\n  'R',\n  'B',\n  'V',\n  'F',\n  'Q',\n  'W',\n  'T',\n  'Q',\n  'J',\n  'P',\n  'L',\n  'W',\n  'H',\n  'B',\n  'R',\n  'T',\n  'G',\n  'M',\n  'H',\n  'D',\n  'T'],\n ['D', 'G', 'Q', 'F', 'R', 'Z', 'G', 'D', 'P', 'G', 'H', 'P', 'L', 'L'],\n ['M', 'C', 'H'],\n ['R', 'Q']]"
     },
     "execution_count": 134,
     "metadata": {},
     "output_type": "execute_result"
    }
   ],
   "source": [
    "work_stacks"
   ],
   "metadata": {
    "collapsed": false
   }
  },
  {
   "cell_type": "code",
   "execution_count": 135,
   "outputs": [
    {
     "name": "stdout",
     "output_type": "stream",
     "text": [
      "HNSNMTLHQ"
     ]
    }
   ],
   "source": [
    "for s in work_stacks:\n",
    "    print(s.pop(), end=\"\")"
   ],
   "metadata": {
    "collapsed": false
   }
  },
  {
   "cell_type": "code",
   "execution_count": 136,
   "outputs": [],
   "source": [
    "def crane9001pop(amt, index, ws):\n",
    "    hold = []\n",
    "    for i in range(amt):\n",
    "        hold.append(ws[index].pop())\n",
    "    hold.reverse()\n",
    "    return hold"
   ],
   "metadata": {
    "collapsed": false
   }
  },
  {
   "cell_type": "code",
   "execution_count": 137,
   "outputs": [],
   "source": [
    "def process(amount, source, target, ws):\n",
    "    ws[target-1] += crane9001pop(amount, source-1, ws)"
   ],
   "metadata": {
    "collapsed": false
   }
  },
  {
   "cell_type": "code",
   "execution_count": 138,
   "outputs": [],
   "source": [
    "work_stacks: list[list] = []\n",
    "for i in range(num_stacks):\n",
    "    work_stacks.append([])\n",
    "\n",
    "for i in range(len(stacks)-2,-1,-1):\n",
    "    for j in range(num_stacks):\n",
    "        if stacks[i][j*4+1] != \" \":\n",
    "            work_stacks[j].append(stacks[i][j*4+1])"
   ],
   "metadata": {
    "collapsed": false
   }
  },
  {
   "cell_type": "code",
   "execution_count": 139,
   "outputs": [],
   "source": [
    "for line in proced:\n",
    "    x0, amt_str, x1, src_str, x2, tar_str = line.split(\" \")\n",
    "    amt = int(amt_str)\n",
    "    src = int(src_str)\n",
    "    tar = int(tar_str)\n",
    "    process(amt,src,tar,work_stacks)"
   ],
   "metadata": {
    "collapsed": false
   }
  },
  {
   "cell_type": "code",
   "execution_count": 140,
   "outputs": [
    {
     "name": "stdout",
     "output_type": "stream",
     "text": [
      "RNLFDJMCT"
     ]
    }
   ],
   "source": [
    "for s in work_stacks:\n",
    "    print(s.pop(), end=\"\")"
   ],
   "metadata": {
    "collapsed": false
   }
  },
  {
   "cell_type": "code",
   "execution_count": 140,
   "outputs": [],
   "source": [],
   "metadata": {
    "collapsed": false
   }
  }
 ],
 "metadata": {
  "kernelspec": {
   "display_name": "Python 3",
   "language": "python",
   "name": "python3"
  },
  "language_info": {
   "codemirror_mode": {
    "name": "ipython",
    "version": 2
   },
   "file_extension": ".py",
   "mimetype": "text/x-python",
   "name": "python",
   "nbconvert_exporter": "python",
   "pygments_lexer": "ipython2",
   "version": "2.7.6"
  }
 },
 "nbformat": 4,
 "nbformat_minor": 0
}
