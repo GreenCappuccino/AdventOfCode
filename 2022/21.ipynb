{
 "cells": [
  {
   "cell_type": "code",
   "execution_count": 7,
   "metadata": {
    "collapsed": true
   },
   "outputs": [],
   "source": [
    "data = open(\"data/21.txt\", \"r\").read()"
   ]
  },
  {
   "cell_type": "code",
   "execution_count": 8,
   "outputs": [],
   "source": [
    "import re\n",
    "eqn_monkey_pattern = re.compile(r\"(\\w+): (\\w+) (\\S) (\\w+)\")\n",
    "num_monkey_pattern = re.compile(r\"(\\w+): (\\d+)\")"
   ],
   "metadata": {
    "collapsed": false
   }
  },
  {
   "cell_type": "code",
   "execution_count": 9,
   "outputs": [],
   "source": [
    "import z3\n",
    "constraints = []\n",
    "for line in data.splitlines():\n",
    "    eqn_match = eqn_monkey_pattern.match(line)\n",
    "    num_match = num_monkey_pattern.match(line)\n",
    "    if eqn_match:\n",
    "        src_monkey, op1_monkey, op, op2_monkey = eqn_match.groups()\n",
    "        if op == \"+\":\n",
    "            constraints.append(z3.Int(src_monkey) == z3.Int(op1_monkey) + z3.Int(op2_monkey))\n",
    "        elif op == \"-\":\n",
    "            constraints.append(z3.Int(src_monkey) == z3.Int(op1_monkey) - z3.Int(op2_monkey))\n",
    "        elif op == \"*\":\n",
    "            constraints.append(z3.Int(src_monkey) == z3.Int(op1_monkey) * z3.Int(op2_monkey))\n",
    "        elif op == \"/\":\n",
    "            constraints.append(z3.Int(src_monkey) == z3.Int(op1_monkey) / z3.Int(op2_monkey))\n",
    "    if num_match:\n",
    "        src_monkey, num = num_match.groups()\n",
    "        constraints.append(z3.Int(src_monkey) == int(num))"
   ],
   "metadata": {
    "collapsed": false
   }
  },
  {
   "cell_type": "code",
   "execution_count": 10,
   "outputs": [
    {
     "name": "stdout",
     "output_type": "stream",
     "text": [
      "286698846151845\n"
     ]
    }
   ],
   "source": [
    "solver = z3.Solver()\n",
    "solver.add(constraints)\n",
    "solver.check()\n",
    "model = solver.model()\n",
    "for decl in model.decls():\n",
    "    if decl.name() == \"root\":\n",
    "        print(model[decl])"
   ],
   "metadata": {
    "collapsed": false
   }
  },
  {
   "cell_type": "markdown",
   "source": [
    "# Part 2"
   ],
   "metadata": {
    "collapsed": false
   }
  },
  {
   "cell_type": "code",
   "execution_count": 11,
   "outputs": [],
   "source": [
    "constraints = []\n",
    "for line in data.splitlines():\n",
    "    eqn_match = eqn_monkey_pattern.match(line)\n",
    "    num_match = num_monkey_pattern.match(line)\n",
    "    if eqn_match:\n",
    "        src_monkey, op1_monkey, op, op2_monkey = eqn_match.groups()\n",
    "        if src_monkey == \"root\":\n",
    "            constraints.append(z3.Real(op1_monkey) == z3.Real(op2_monkey))\n",
    "        elif op == \"+\":\n",
    "            constraints.append(z3.Real(src_monkey) == z3.Real(op1_monkey) + z3.Real(op2_monkey))\n",
    "        elif op == \"-\":\n",
    "            constraints.append(z3.Real(src_monkey) == z3.Real(op1_monkey) - z3.Real(op2_monkey))\n",
    "        elif op == \"*\":\n",
    "            constraints.append(z3.Real(src_monkey) == z3.Real(op1_monkey) * z3.Real(op2_monkey))\n",
    "        elif op == \"/\":\n",
    "            constraints.append(z3.Real(src_monkey) == z3.Real(op1_monkey) / z3.Real(op2_monkey))\n",
    "    if num_match:\n",
    "        src_monkey, num = num_match.groups()\n",
    "        if src_monkey != \"humn\":\n",
    "            constraints.append(z3.Real(src_monkey) == int(num))\n",
    "        else:\n",
    "            constraints.append(z3.Real(src_monkey) == z3.ToInt(z3.Real(src_monkey)))"
   ],
   "metadata": {
    "collapsed": false
   }
  },
  {
   "cell_type": "code",
   "execution_count": 12,
   "outputs": [
    {
     "name": "stdout",
     "output_type": "stream",
     "text": [
      "humn = 3759566892641\n",
      "bsbd = 80526799293735\n",
      "fcgj = 80526799293735\n"
     ]
    }
   ],
   "source": [
    "solver = z3.Solver()\n",
    "solver.add(constraints)\n",
    "solver.check()\n",
    "model = solver.model()\n",
    "for decl in model.decls():\n",
    "    if decl.name() in [\"humn\", \"bsbd\", \"fcgj\"]:\n",
    "        print(decl.name(), \"=\", model[decl])"
   ],
   "metadata": {
    "collapsed": false
   }
  }
 ],
 "metadata": {
  "kernelspec": {
   "display_name": "Python 3",
   "language": "python",
   "name": "python3"
  },
  "language_info": {
   "codemirror_mode": {
    "name": "ipython",
    "version": 2
   },
   "file_extension": ".py",
   "mimetype": "text/x-python",
   "name": "python",
   "nbconvert_exporter": "python",
   "pygments_lexer": "ipython2",
   "version": "2.7.6"
  }
 },
 "nbformat": 4,
 "nbformat_minor": 0
}
