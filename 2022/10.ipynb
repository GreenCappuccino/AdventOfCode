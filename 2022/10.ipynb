{
 "cells": [
  {
   "cell_type": "code",
   "execution_count": 1,
   "metadata": {
    "collapsed": true
   },
   "outputs": [],
   "source": [
    "data = open(\"data/10.txt\", \"r\").read()"
   ]
  },
  {
   "cell_type": "code",
   "execution_count": 2,
   "outputs": [],
   "source": [
    "lines = data.splitlines()"
   ],
   "metadata": {
    "collapsed": false
   }
  },
  {
   "cell_type": "markdown",
   "source": [
    "# Part 1"
   ],
   "metadata": {
    "collapsed": false
   }
  },
  {
   "cell_type": "code",
   "execution_count": 3,
   "outputs": [],
   "source": [
    "targets = [20,60,100,140,180,220]"
   ],
   "metadata": {
    "collapsed": false
   }
  },
  {
   "cell_type": "code",
   "execution_count": 4,
   "outputs": [],
   "source": [
    "runtime = 0\n",
    "op_timer = 0\n",
    "timer_cap = 0\n",
    "x = 1\n",
    "x_next = 1\n",
    "total = 0\n",
    "for line in lines:\n",
    "    # Reset state\n",
    "    op_timer = 0\n",
    "\n",
    "    # Set future state\n",
    "    cmd = line.split(\" \")\n",
    "    if cmd[0] == \"noop\":\n",
    "        timer_cap = 1\n",
    "    if cmd[0] == \"addx\":\n",
    "        x_next = x + int(cmd[1])\n",
    "        timer_cap = 2\n",
    "\n",
    "    # Busyloop and check targets\n",
    "    while op_timer < timer_cap:\n",
    "        op_timer += 1\n",
    "        runtime += 1\n",
    "        if runtime in targets:\n",
    "            total += runtime * x\n",
    "\n",
    "    x = x_next"
   ],
   "metadata": {
    "collapsed": false
   }
  },
  {
   "cell_type": "code",
   "execution_count": 5,
   "outputs": [
    {
     "data": {
      "text/plain": "15220"
     },
     "execution_count": 5,
     "metadata": {},
     "output_type": "execute_result"
    }
   ],
   "source": [
    "total"
   ],
   "metadata": {
    "collapsed": false
   }
  },
  {
   "cell_type": "markdown",
   "source": [
    "# Part 2"
   ],
   "metadata": {
    "collapsed": false
   }
  },
  {
   "cell_type": "code",
   "execution_count": 6,
   "outputs": [],
   "source": [
    "def splat(index, to_splat):\n",
    "    if 0 < index < len(to_splat) - 2:\n",
    "        return to_splat[:index-1] + \"###\" + to_splat[index+2:]\n",
    "    elif index == 0:\n",
    "        return \"##\" + to_splat[2:]\n",
    "    else:\n",
    "        return to_splat[:-2] + \"##\""
   ],
   "metadata": {
    "collapsed": false
   }
  },
  {
   "cell_type": "code",
   "execution_count": 7,
   "outputs": [],
   "source": [
    "crt: list[list[str]] = []\n",
    "for i in range(6):\n",
    "    crt.append([])\n",
    "    for j in range(40):\n",
    "        crt[-1].append(\".\")\n",
    "\n",
    "crt_total = 0\n",
    "\n",
    "op_timer = 0\n",
    "timer_cap = 0\n",
    "x = 1\n",
    "x_next = 1\n",
    "total = 0\n",
    "for line in lines:\n",
    "    # Reset state\n",
    "    op_timer = 0\n",
    "\n",
    "    # Set future state\n",
    "    cmd = line.split(\" \")\n",
    "    if cmd[0] == \"noop\":\n",
    "        timer_cap = 1\n",
    "    if cmd[0] == \"addx\":\n",
    "        x_next = x + int(cmd[1])\n",
    "        timer_cap = 2\n",
    "\n",
    "    # Busyloop and check targets\n",
    "    while op_timer < timer_cap:\n",
    "        op_timer += 1\n",
    "\n",
    "        # Update CRT state\n",
    "        crt_target = splat(x, \".\" * 40)\n",
    "\n",
    "        crt_col = crt_total % 40\n",
    "        crt_row = crt_total // 40\n",
    "\n",
    "        crt[crt_row][crt_col] = crt_target[crt_col]\n",
    "\n",
    "        crt_total += 1\n",
    "\n",
    "    x = x_next"
   ],
   "metadata": {
    "collapsed": false
   }
  },
  {
   "cell_type": "code",
   "execution_count": 8,
   "outputs": [
    {
     "name": "stdout",
     "output_type": "stream",
     "text": [
      "###..####.####.####.#..#.###..####..##.#\n",
      "...#.#.......#.#....#.#..#..#.#....#..#.\n",
      "...#.###....#..###..##...###..###..#..#.\n",
      "###..#.....#...#....#.#..#..#.#....#####\n",
      "..#..#....#....#....#.#..#..#.#....#..#.\n",
      "#..#.#....####.####.#..#.###..#....#..#.\n"
     ]
    }
   ],
   "source": [
    "for line in crt:\n",
    "    for pixel in line:\n",
    "        print(pixel, end=\"\")\n",
    "    print()"
   ],
   "metadata": {
    "collapsed": false
   }
  }
 ],
 "metadata": {
  "kernelspec": {
   "display_name": "Python 3",
   "language": "python",
   "name": "python3"
  },
  "language_info": {
   "codemirror_mode": {
    "name": "ipython",
    "version": 2
   },
   "file_extension": ".py",
   "mimetype": "text/x-python",
   "name": "python",
   "nbconvert_exporter": "python",
   "pygments_lexer": "ipython2",
   "version": "2.7.6"
  }
 },
 "nbformat": 4,
 "nbformat_minor": 0
}
