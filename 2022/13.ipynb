{
 "cells": [
  {
   "cell_type": "code",
   "execution_count": 1,
   "metadata": {
    "collapsed": true
   },
   "outputs": [],
   "source": [
    "data = open(\"data/13.txt\", \"r\").read()"
   ]
  },
  {
   "cell_type": "markdown",
   "source": [
    "# Part 1"
   ],
   "metadata": {
    "collapsed": false
   }
  },
  {
   "cell_type": "code",
   "execution_count": 2,
   "outputs": [],
   "source": [
    "pairs_str = data.split(\"\\n\\n\")"
   ],
   "metadata": {
    "collapsed": false
   }
  },
  {
   "cell_type": "code",
   "execution_count": 3,
   "outputs": [],
   "source": [
    "import ast\n",
    "pairs = [(ast.literal_eval(p.splitlines()[0]), ast.literal_eval(p.splitlines()[1])) for p in pairs_str]"
   ],
   "metadata": {
    "collapsed": false
   }
  },
  {
   "cell_type": "code",
   "execution_count": 4,
   "outputs": [],
   "source": [
    "def compare(p):\n",
    "    \"\"\"Returns True if pair is in order, lower and shorter first.\"\"\"\n",
    "    p0, p1 = p\n",
    "    if isinstance(p0, int) and isinstance(p1, int):\n",
    "        if p0 == p1:\n",
    "            return None\n",
    "        return p0 < p1\n",
    "    elif isinstance(p0, list) and isinstance(p1, list):\n",
    "        flag = None\n",
    "        for i in range(min(len(p0),len(p1))):\n",
    "            comparison = compare((p0[i], p1[i]))\n",
    "            if comparison is None:\n",
    "                continue\n",
    "            flag = comparison\n",
    "            break\n",
    "        if flag is None:\n",
    "            if len(p0) == len(p1):\n",
    "                return None\n",
    "            return len(p0) < len(p1)\n",
    "        else:\n",
    "            return flag\n",
    "    else:\n",
    "        return compare(([p0,] if isinstance(p0, int) else p0, [p1,] if isinstance(p1, int) else p1))"
   ],
   "metadata": {
    "collapsed": false
   }
  },
  {
   "cell_type": "code",
   "execution_count": 5,
   "outputs": [],
   "source": [
    "indices = []\n",
    "for pair_i, pair in enumerate(pairs):\n",
    "    if compare(pair):\n",
    "        indices.append(pair_i+1)"
   ],
   "metadata": {
    "collapsed": false
   }
  },
  {
   "cell_type": "code",
   "execution_count": 6,
   "outputs": [
    {
     "data": {
      "text/plain": "6240"
     },
     "execution_count": 6,
     "metadata": {},
     "output_type": "execute_result"
    }
   ],
   "source": [
    "sum(indices)"
   ],
   "metadata": {
    "collapsed": false
   }
  },
  {
   "cell_type": "markdown",
   "source": [
    "# Part 2"
   ],
   "metadata": {
    "collapsed": false
   }
  },
  {
   "cell_type": "code",
   "execution_count": 7,
   "outputs": [],
   "source": [
    "divider1 = [[2]]\n",
    "divider2 = [[6]]"
   ],
   "metadata": {
    "collapsed": false
   }
  },
  {
   "cell_type": "code",
   "execution_count": 8,
   "outputs": [],
   "source": [
    "packets = [ast.literal_eval(line) for line in data.replace(\"\\n\\n\", \"\\n\").splitlines()]"
   ],
   "metadata": {
    "collapsed": false
   }
  },
  {
   "cell_type": "code",
   "execution_count": 9,
   "outputs": [],
   "source": [
    "packets.append(divider1)\n",
    "packets.append(divider2)"
   ],
   "metadata": {
    "collapsed": false
   }
  },
  {
   "cell_type": "code",
   "execution_count": 10,
   "outputs": [],
   "source": [
    "import functools\n",
    "packets.sort(key=functools.cmp_to_key(lambda x, y: 1 if compare((x, y)) else -1), reverse=True)"
   ],
   "metadata": {
    "collapsed": false
   }
  },
  {
   "cell_type": "code",
   "execution_count": 11,
   "outputs": [
    {
     "data": {
      "text/plain": "23142"
     },
     "execution_count": 11,
     "metadata": {},
     "output_type": "execute_result"
    }
   ],
   "source": [
    "(packets.index(divider1) + 1) * (packets.index(divider2) + 1)"
   ],
   "metadata": {
    "collapsed": false
   }
  }
 ],
 "metadata": {
  "kernelspec": {
   "display_name": "Python 3",
   "language": "python",
   "name": "python3"
  },
  "language_info": {
   "codemirror_mode": {
    "name": "ipython",
    "version": 2
   },
   "file_extension": ".py",
   "mimetype": "text/x-python",
   "name": "python",
   "nbconvert_exporter": "python",
   "pygments_lexer": "ipython2",
   "version": "2.7.6"
  }
 },
 "nbformat": 4,
 "nbformat_minor": 0
}
