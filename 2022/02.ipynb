{
 "cells": [
  {
   "cell_type": "markdown",
   "source": [
    "# Part 1"
   ],
   "metadata": {
    "collapsed": false
   }
  },
  {
   "cell_type": "code",
   "execution_count": 1,
   "outputs": [],
   "source": [
    "data = open(\"data/02.txt\", \"r\").read()"
   ],
   "metadata": {
    "collapsed": false
   }
  },
  {
   "cell_type": "code",
   "execution_count": 2,
   "outputs": [],
   "source": [
    "score = 0"
   ],
   "metadata": {
    "collapsed": false
   }
  },
  {
   "cell_type": "code",
   "execution_count": 3,
   "outputs": [],
   "source": [
    "entry_str = data.splitlines()"
   ],
   "metadata": {
    "collapsed": false
   }
  },
  {
   "cell_type": "code",
   "execution_count": 4,
   "outputs": [],
   "source": [
    "def win_lose(a, b):\n",
    "    win = a == \"A\" and b == \"Y\"\n",
    "    win = win or (a == \"B\" and b == \"Z\")\n",
    "    win = win or (a == \"C\" and b == \"X\")\n",
    "    return win"
   ],
   "metadata": {
    "collapsed": false
   }
  },
  {
   "cell_type": "code",
   "execution_count": 5,
   "outputs": [],
   "source": [
    "for line in entry_str:\n",
    "    (op, me) = line.split()\n",
    "    if win_lose(op, me):\n",
    "        score += 6\n",
    "    if op == \"A\" and me == \"X\" \\\n",
    "        or op == \"B\" and me == \"Y\" \\\n",
    "        or op == \"C\" and me == \"Z\":\n",
    "        score += 3\n",
    "\n",
    "    if me == \"X\":\n",
    "        score += 1\n",
    "    if me == \"Y\":\n",
    "        score += 2\n",
    "    if me == \"Z\":\n",
    "        score += 3"
   ],
   "metadata": {
    "collapsed": false
   }
  },
  {
   "cell_type": "code",
   "execution_count": 6,
   "outputs": [
    {
     "data": {
      "text/plain": "11767"
     },
     "execution_count": 6,
     "metadata": {},
     "output_type": "execute_result"
    }
   ],
   "source": [
    "score"
   ],
   "metadata": {
    "collapsed": false
   }
  },
  {
   "cell_type": "markdown",
   "source": [
    "# Part 2"
   ],
   "metadata": {
    "collapsed": false
   }
  },
  {
   "cell_type": "code",
   "execution_count": 7,
   "outputs": [],
   "source": [
    "win_table = {\n",
    "    \"A\": {\n",
    "        \"X\": 3,\n",
    "        \"Y\": 1,\n",
    "        \"Z\": 2\n",
    "    },\n",
    "    \"B\": {\n",
    "        \"X\": 1,\n",
    "        \"Y\": 2,\n",
    "        \"Z\": 3\n",
    "    },\n",
    "    \"C\": {\n",
    "        \"X\": 2,\n",
    "        \"Y\": 3,\n",
    "        \"Z\": 1\n",
    "    }\n",
    "}"
   ],
   "metadata": {
    "collapsed": false
   }
  },
  {
   "cell_type": "code",
   "execution_count": 8,
   "outputs": [],
   "source": [
    "score = 0\n",
    "for line in entry_str:\n",
    "    (op, me) = line.split()\n",
    "    score += win_table[op][me]\n",
    "    score += {\n",
    "        \"X\": 0,\n",
    "        \"Y\": 3,\n",
    "        \"Z\": 6\n",
    "    }[me]"
   ],
   "metadata": {
    "collapsed": false
   }
  },
  {
   "cell_type": "code",
   "execution_count": 9,
   "outputs": [
    {
     "data": {
      "text/plain": "13886"
     },
     "execution_count": 9,
     "metadata": {},
     "output_type": "execute_result"
    }
   ],
   "source": [
    "score"
   ],
   "metadata": {
    "collapsed": false
   }
  },
  {
   "cell_type": "code",
   "execution_count": 9,
   "outputs": [],
   "source": [],
   "metadata": {
    "collapsed": false
   }
  }
 ],
 "metadata": {
  "kernelspec": {
   "display_name": "Python 3",
   "language": "python",
   "name": "python3"
  },
  "language_info": {
   "codemirror_mode": {
    "name": "ipython",
    "version": 2
   },
   "file_extension": ".py",
   "mimetype": "text/x-python",
   "name": "python",
   "nbconvert_exporter": "python",
   "pygments_lexer": "ipython2",
   "version": "2.7.6"
  }
 },
 "nbformat": 4,
 "nbformat_minor": 0
}
