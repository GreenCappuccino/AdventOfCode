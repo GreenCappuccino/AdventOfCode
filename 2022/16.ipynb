{
 "cells": [
  {
   "cell_type": "markdown",
   "source": [
    "# Input Processing"
   ],
   "metadata": {
    "collapsed": false
   }
  },
  {
   "cell_type": "code",
   "execution_count": 1,
   "outputs": [],
   "source": [
    "import re\n",
    "pattern = re.compile(r\"Valve (\\w+) has flow rate=(\\d+); tunnels? leads? to valves? (.*)\")"
   ],
   "metadata": {
    "collapsed": false
   }
  },
  {
   "cell_type": "code",
   "execution_count": 2,
   "outputs": [],
   "source": [
    "data = open(\"data/16.txt\", \"r\").read()"
   ],
   "metadata": {
    "collapsed": false
   }
  },
  {
   "cell_type": "code",
   "execution_count": 3,
   "outputs": [],
   "source": [
    "matches = pattern.findall(data)"
   ],
   "metadata": {
    "collapsed": false
   }
  },
  {
   "cell_type": "code",
   "execution_count": 4,
   "outputs": [],
   "source": [
    "from dataclasses import dataclass\n",
    "@dataclass\n",
    "class Valve:\n",
    "    name: str\n",
    "    flow_rate: int\n",
    "    edges: list[str]"
   ],
   "metadata": {
    "collapsed": false
   }
  },
  {
   "cell_type": "code",
   "execution_count": 5,
   "outputs": [],
   "source": [
    "valve_map: dict[str, Valve] = {}"
   ],
   "metadata": {
    "collapsed": false
   }
  },
  {
   "cell_type": "code",
   "execution_count": 6,
   "outputs": [],
   "source": [
    "for match in matches:\n",
    "    valve_map[match[0]] = Valve(match[0], int(match[1]), match[2].split(\", \"))"
   ],
   "metadata": {
    "collapsed": false
   }
  },
  {
   "cell_type": "markdown",
   "source": [
    "# Part 1\n",
    "## Precompute paths (BFS)"
   ],
   "metadata": {
    "collapsed": false
   }
  },
  {
   "cell_type": "code",
   "execution_count": 7,
   "outputs": [],
   "source": [
    "def generate_path(from_valve: str, to_valve: str):\n",
    "    stack: list[tuple[str]] = [(from_valve,)]\n",
    "    visited = set()\n",
    "    while len(stack) > 0:\n",
    "        hand = stack.pop(0)\n",
    "\n",
    "        if hand[-1] == to_valve:\n",
    "            return hand\n",
    "\n",
    "        for edge in valve_map[hand[-1]].edges:\n",
    "            if edge in visited:\n",
    "                continue\n",
    "            stack.append(hand + (edge,))\n",
    "            visited.add(edge)"
   ],
   "metadata": {
    "collapsed": false
   }
  },
  {
   "cell_type": "code",
   "execution_count": 8,
   "outputs": [],
   "source": [
    "no_flow = []\n",
    "for valve in valve_map.keys():\n",
    "    if valve_map[valve].flow_rate == 0:\n",
    "        no_flow.append(valve)"
   ],
   "metadata": {
    "collapsed": false
   }
  },
  {
   "cell_type": "code",
   "execution_count": 9,
   "outputs": [],
   "source": [
    "path_map: dict[str, dict[str, tuple[str]]] = {}\n",
    "for a in valve_map.keys():\n",
    "    if a in no_flow and a != \"AA\":\n",
    "        continue\n",
    "    path_map[a] = {}\n",
    "    for b in valve_map.keys():\n",
    "        if b in no_flow:\n",
    "            continue\n",
    "        path_map[a][b] = generate_path(a,b)[1:]"
   ],
   "metadata": {
    "collapsed": false
   }
  },
  {
   "cell_type": "markdown",
   "source": [
    "## DFS (by path, full search)"
   ],
   "metadata": {
    "collapsed": false
   }
  },
  {
   "cell_type": "code",
   "execution_count": 10,
   "outputs": [],
   "source": [
    "def find_max_released(max_time=30):\n",
    "    max_released = 0\n",
    "    # Stack of (current_position, opened_valves, released, time_passed)\n",
    "    stack: list[tuple[str, tuple[str], int, int]] = [(\"AA\", tuple(no_flow), 0, 1)]\n",
    "    while len(stack):\n",
    "        # Pop\n",
    "        current_position, opened_valves, released, time_passed = stack.pop()\n",
    "        # Process\n",
    "        max_released = max(released, max_released)\n",
    "        # Push\n",
    "        if len(opened_valves) == len(valve_map) or time_passed >= max_time:\n",
    "            continue\n",
    "        for target in path_map[current_position].keys():\n",
    "            if target in opened_valves:\n",
    "                continue\n",
    "            end_time = min(time_passed + len(path_map[current_position][target]), max_time)\n",
    "            next_released = released + ((max_time - end_time) * valve_map[target].flow_rate if end_time <= max_time else 0)\n",
    "            stack.append((\n",
    "                target,\n",
    "                opened_valves + (target,),\n",
    "                next_released,\n",
    "                end_time + 1\n",
    "            ))\n",
    "    return max_released"
   ],
   "metadata": {
    "collapsed": false
   }
  },
  {
   "cell_type": "code",
   "execution_count": 11,
   "outputs": [
    {
     "name": "stdout",
     "output_type": "stream",
     "text": [
      "1789\n"
     ]
    }
   ],
   "source": [
    "print(find_max_released(30))"
   ],
   "metadata": {
    "collapsed": false
   }
  },
  {
   "cell_type": "markdown",
   "source": [
    "# Part 2\n",
    "## DFS (by path, full search) (very slow)"
   ],
   "metadata": {
    "collapsed": false
   }
  },
  {
   "cell_type": "code",
   "execution_count": 12,
   "outputs": [],
   "source": [
    "def find_max_released_elephant(max_time=30):\n",
    "    max_released = 0\n",
    "    # Stack of (current_position, elephant_position, opened_valves, released, time_passed, elephant_passed)\n",
    "    stack: list[tuple[str, str, tuple[str], int, int, int]] = [(\"AA\", \"AA\", tuple(no_flow), 0, 1, 1)]\n",
    "    while len(stack):\n",
    "        # Pop\n",
    "        current_position, elephant_position, opened_valves, released, time_passed, elephant_passed = stack.pop()\n",
    "        # Process\n",
    "        max_released = max(released, max_released)\n",
    "        # Push\n",
    "        lowest_time = min(time_passed, elephant_passed)\n",
    "        choice = \"you\" if lowest_time == time_passed else \"elephant\"\n",
    "        if len(opened_valves) == len(valve_map) or lowest_time >= max_time:\n",
    "            continue\n",
    "        for target in path_map[current_position if choice == \"you\" else elephant_position].keys():\n",
    "            if target in opened_valves:\n",
    "                continue\n",
    "            end_time = min((time_passed if choice == \"you\" else elephant_passed) +\n",
    "                           len(path_map[current_position if choice == \"you\" else elephant_position][target]), max_time)\n",
    "            next_released = released + ((max_time - end_time) * valve_map[target].flow_rate if end_time <= max_time else 0)\n",
    "            stack.append((\n",
    "                target if choice == \"you\" else current_position,\n",
    "                target if choice == \"elephant\" else elephant_position,\n",
    "                opened_valves + (target,),\n",
    "                next_released,\n",
    "                end_time + 1 if choice == \"you\" else time_passed,\n",
    "                end_time + 1 if choice == \"elephant\" else elephant_passed,\n",
    "            ))\n",
    "    return max_released"
   ],
   "metadata": {
    "collapsed": false
   }
  },
  {
   "cell_type": "code",
   "execution_count": 13,
   "outputs": [
    {
     "name": "stdout",
     "output_type": "stream",
     "text": [
      "2496\n"
     ]
    }
   ],
   "source": [
    "print(find_max_released_elephant(26))"
   ],
   "metadata": {
    "collapsed": false
   }
  }
 ],
 "metadata": {
  "kernelspec": {
   "display_name": "Python 3",
   "language": "python",
   "name": "python3"
  },
  "language_info": {
   "codemirror_mode": {
    "name": "ipython",
    "version": 2
   },
   "file_extension": ".py",
   "mimetype": "text/x-python",
   "name": "python",
   "nbconvert_exporter": "python",
   "pygments_lexer": "ipython2",
   "version": "2.7.6"
  }
 },
 "nbformat": 4,
 "nbformat_minor": 0
}
