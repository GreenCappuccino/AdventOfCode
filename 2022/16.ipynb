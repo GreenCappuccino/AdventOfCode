{
 "cells": [
  {
   "cell_type": "markdown",
   "source": [
    "# Part 1\n",
    "## Parsing"
   ],
   "metadata": {
    "collapsed": false
   }
  },
  {
   "cell_type": "code",
   "execution_count": 71,
   "outputs": [],
   "source": [
    "import re\n",
    "pattern = re.compile(r\"Valve (\\w+) has flow rate=(\\d+); tunnels? leads? to valves? (.*)\")"
   ],
   "metadata": {
    "collapsed": false
   }
  },
  {
   "cell_type": "code",
   "execution_count": 72,
   "outputs": [],
   "source": [
    "data = open(\"data.txt\", \"r\").read()"
   ],
   "metadata": {
    "collapsed": false
   }
  },
  {
   "cell_type": "code",
   "execution_count": 73,
   "outputs": [],
   "source": [
    "matches = pattern.findall(data)"
   ],
   "metadata": {
    "collapsed": false
   }
  },
  {
   "cell_type": "code",
   "execution_count": 74,
   "outputs": [],
   "source": [
    "from dataclasses import dataclass\n",
    "@dataclass\n",
    "class Valve:\n",
    "    name: str\n",
    "    flow_rate: int\n",
    "    edges: list[str]"
   ],
   "metadata": {
    "collapsed": false
   }
  },
  {
   "cell_type": "code",
   "execution_count": 75,
   "outputs": [],
   "source": [
    "valve_map: dict[str, Valve] = {}"
   ],
   "metadata": {
    "collapsed": false
   }
  },
  {
   "cell_type": "code",
   "execution_count": 76,
   "outputs": [],
   "source": [
    "for match in matches:\n",
    "    valve_map[match[0]] = Valve(match[0], int(match[1]), match[2].split(\", \"))"
   ],
   "metadata": {
    "collapsed": false
   }
  },
  {
   "cell_type": "code",
   "execution_count": 77,
   "outputs": [
    {
     "data": {
      "text/plain": "{'AW': Valve(name='AW', flow_rate=0, edges=['LG', 'TL']),\n 'OM': Valve(name='OM', flow_rate=0, edges=['XK', 'IM']),\n 'BG': Valve(name='BG', flow_rate=0, edges=['MP', 'SB']),\n 'XB': Valve(name='XB', flow_rate=0, edges=['MA', 'TL']),\n 'CD': Valve(name='CD', flow_rate=0, edges=['VL', 'OF']),\n 'VF': Valve(name='VF', flow_rate=0, edges=['CS', 'XK']),\n 'HK': Valve(name='HK', flow_rate=0, edges=['RL', 'QB']),\n 'QN': Valve(name='QN', flow_rate=0, edges=['IV', 'QR']),\n 'OF': Valve(name='OF', flow_rate=4, edges=['TQ', 'CD', 'IR', 'IM', 'JE']),\n 'QB': Valve(name='QB', flow_rate=14, edges=['HK', 'XE', 'CS', 'VO']),\n 'ZE': Valve(name='ZE', flow_rate=7, edges=['JB', 'NC', 'SE', 'OI']),\n 'OW': Valve(name='OW', flow_rate=0, edges=['MB', 'JB']),\n 'MA': Valve(name='MA', flow_rate=0, edges=['XB', 'MB']),\n 'MP': Valve(name='MP', flow_rate=0, edges=['VK', 'BG']),\n 'UE': Valve(name='UE', flow_rate=9, edges=['ZM', 'RZ', 'WI', 'HO', 'FO']),\n 'QR': Valve(name='QR', flow_rate=24, edges=['QN']),\n 'TQ': Valve(name='TQ', flow_rate=0, edges=['OF', 'AA']),\n 'SE': Valve(name='SE', flow_rate=0, edges=['ZE', 'ZZ']),\n 'AQ': Valve(name='AQ', flow_rate=20, edges=['CX']),\n 'XE': Valve(name='XE', flow_rate=0, edges=['JQ', 'QB']),\n 'DC': Valve(name='DC', flow_rate=8, edges=['ZD', 'MJ', 'RZ']),\n 'ZM': Valve(name='ZM', flow_rate=0, edges=['YJ', 'UE']),\n 'VK': Valve(name='VK', flow_rate=21, edges=['MP']),\n 'VR': Valve(name='VR', flow_rate=0, edges=['WV', 'PS']),\n 'BH': Valve(name='BH', flow_rate=0, edges=['AA', 'MB']),\n 'ZR': Valve(name='ZR', flow_rate=0, edges=['LG', 'AI']),\n 'JE': Valve(name='JE', flow_rate=0, edges=['OF', 'HO']),\n 'IR': Valve(name='IR', flow_rate=0, edges=['IV', 'OF']),\n 'FO': Valve(name='FO', flow_rate=0, edges=['XQ', 'UE']),\n 'AA': Valve(name='AA', flow_rate=0, edges=['NC', 'VY', 'BH', 'TQ', 'YJ']),\n 'ZZ': Valve(name='ZZ', flow_rate=0, edges=['SE', 'TL']),\n 'XQ': Valve(name='XQ', flow_rate=0, edges=['IV', 'FO']),\n 'WI': Valve(name='WI', flow_rate=0, edges=['UE', 'VO']),\n 'VY': Valve(name='VY', flow_rate=0, edges=['AA', 'LG']),\n 'XK': Valve(name='XK', flow_rate=15, edges=['VF', 'OM', 'ZD']),\n 'CX': Valve(name='CX', flow_rate=0, edges=['AQ', 'MB']),\n 'JQ': Valve(name='JQ', flow_rate=0, edges=['XE', 'IV']),\n 'LG': Valve(name='LG', flow_rate=3, edges=['VY', 'PS', 'ZR', 'AW', 'OI']),\n 'JB': Valve(name='JB', flow_rate=0, edges=['ZE', 'OW']),\n 'OI': Valve(name='OI', flow_rate=0, edges=['ZE', 'LG']),\n 'YJ': Valve(name='YJ', flow_rate=0, edges=['ZM', 'AA']),\n 'NC': Valve(name='NC', flow_rate=0, edges=['AA', 'ZE']),\n 'KR': Valve(name='KR', flow_rate=0, edges=['SB', 'MJ']),\n 'MB': Valve(name='MB', flow_rate=17, edges=['CX', 'BH', 'AI', 'OW', 'MA']),\n 'AI': Valve(name='AI', flow_rate=0, edges=['ZR', 'MB']),\n 'TL': Valve(name='TL', flow_rate=16, edges=['ZZ', 'XB', 'AW']),\n 'RL': Valve(name='RL', flow_rate=0, edges=['WV', 'HK']),\n 'CS': Valve(name='CS', flow_rate=0, edges=['VF', 'QB']),\n 'WV': Valve(name='WV', flow_rate=25, edges=['RL', 'VL', 'VR']),\n 'ZD': Valve(name='ZD', flow_rate=0, edges=['XK', 'DC']),\n 'IV': Valve(name='IV', flow_rate=23, edges=['XQ', 'IR', 'JQ', 'QN']),\n 'PS': Valve(name='PS', flow_rate=0, edges=['VR', 'LG']),\n 'RZ': Valve(name='RZ', flow_rate=0, edges=['DC', 'UE']),\n 'VO': Valve(name='VO', flow_rate=0, edges=['WI', 'QB']),\n 'MJ': Valve(name='MJ', flow_rate=0, edges=['DC', 'KR']),\n 'IM': Valve(name='IM', flow_rate=0, edges=['OM', 'OF']),\n 'VL': Valve(name='VL', flow_rate=0, edges=['CD', 'WV']),\n 'SB': Valve(name='SB', flow_rate=18, edges=['BG', 'KR']),\n 'HO': Valve(name='HO', flow_rate=0, edges=['JE', 'UE'])}"
     },
     "execution_count": 77,
     "metadata": {},
     "output_type": "execute_result"
    }
   ],
   "source": [
    "valve_map"
   ],
   "metadata": {
    "collapsed": false
   }
  },
  {
   "cell_type": "markdown",
   "source": [
    "## Precompute paths (BFS)"
   ],
   "metadata": {
    "collapsed": false
   }
  },
  {
   "cell_type": "code",
   "execution_count": 78,
   "outputs": [],
   "source": [
    "def generate_path(from_valve: str, to_valve: str):\n",
    "    stack: list[tuple[str]] = [(from_valve,)]\n",
    "    visited = set()\n",
    "    while len(stack) > 0:\n",
    "        hand = stack.pop(0)\n",
    "\n",
    "        if hand[-1] == to_valve:\n",
    "            return hand\n",
    "\n",
    "        for edge in valve_map[hand[-1]].edges:\n",
    "            if edge in visited:\n",
    "                continue\n",
    "            stack.append(hand + (edge,))\n",
    "            visited.add(edge)"
   ],
   "metadata": {
    "collapsed": false
   }
  },
  {
   "cell_type": "code",
   "execution_count": 79,
   "outputs": [],
   "source": [
    "no_flow = []\n",
    "for valve in valve_map.keys():\n",
    "    if valve_map[valve].flow_rate == 0:\n",
    "        no_flow.append(valve)"
   ],
   "metadata": {
    "collapsed": false
   }
  },
  {
   "cell_type": "code",
   "execution_count": 80,
   "outputs": [],
   "source": [
    "path_map: dict[str, dict[str, tuple[str]]] = {}\n",
    "for a in valve_map.keys():\n",
    "    if a in no_flow and a != \"AA\":\n",
    "        continue\n",
    "    path_map[a] = {}\n",
    "    for b in valve_map.keys():\n",
    "        if b in no_flow:\n",
    "            continue\n",
    "        path_map[a][b] = generate_path(a,b)[1:]"
   ],
   "metadata": {
    "collapsed": false
   }
  },
  {
   "cell_type": "markdown",
   "source": [
    "## DFS (by path, full search)"
   ],
   "metadata": {
    "collapsed": false
   }
  },
  {
   "cell_type": "code",
   "execution_count": 81,
   "outputs": [],
   "source": [
    "def find_max_released(max_time=30):\n",
    "    max_released = 0\n",
    "    # Stack of (current_position, opened_valves, released, time_passed)\n",
    "    stack: list[tuple[str, tuple[str], int, int]] = [(\"AA\", tuple(no_flow), 0, 1)]\n",
    "    while len(stack):\n",
    "        # Pop\n",
    "        current_position, opened_valves, released, time_passed = stack.pop()\n",
    "        # Process\n",
    "        max_released = max(released, max_released)\n",
    "        # Push (want to push whichever is lower\n",
    "        if len(opened_valves) == len(valve_map) or time_passed >= max_time:\n",
    "            continue\n",
    "        for target in path_map[current_position].keys():\n",
    "            if target in opened_valves:\n",
    "                continue\n",
    "            end_time = min(time_passed + len(path_map[current_position][target]), max_time)\n",
    "            next_released = released + ((max_time - end_time) * valve_map[target].flow_rate if end_time <= max_time else 0)\n",
    "            stack.append((\n",
    "                target,\n",
    "                opened_valves + (target,),\n",
    "                next_released,\n",
    "                end_time + 1\n",
    "            ))\n",
    "    return max_released"
   ],
   "metadata": {
    "collapsed": false
   }
  },
  {
   "cell_type": "code",
   "execution_count": 82,
   "outputs": [
    {
     "name": "stdout",
     "output_type": "stream",
     "text": [
      "1789\n"
     ]
    }
   ],
   "source": [
    "print(find_max_released(30))"
   ],
   "metadata": {
    "collapsed": false
   }
  },
  {
   "cell_type": "markdown",
   "source": [
    "# Part 2\n",
    "## DFS (by path, full search)"
   ],
   "metadata": {
    "collapsed": false
   }
  },
  {
   "cell_type": "code",
   "execution_count": 83,
   "outputs": [],
   "source": [
    "def find_max_released_elephant(max_time=30):\n",
    "    max_released = 0\n",
    "    # Stack of (current_position, elephant_position, opened_valves, released, time_passed, elephant_passed)\n",
    "    stack: list[tuple[str, str, tuple[str], int, int, int]] = [(\"AA\", \"AA\", tuple(no_flow), 0, 1, 1)]\n",
    "    while len(stack):\n",
    "        # Pop\n",
    "        current_position, elephant_position, opened_valves, released, time_passed, elephant_passed = stack.pop()\n",
    "        # Process\n",
    "        max_released = max(released, max_released)\n",
    "        # Push\n",
    "        lowest_time = min(time_passed, elephant_passed)\n",
    "        choice = \"you\" if lowest_time == time_passed else \"elephant\"\n",
    "        if len(opened_valves) == len(valve_map) or lowest_time >= max_time:\n",
    "            continue\n",
    "        for target in path_map[current_position if choice == \"you\" else elephant_position].keys():\n",
    "            if target in opened_valves:\n",
    "                continue\n",
    "            end_time = min((time_passed if choice == \"you\" else elephant_passed) +\n",
    "                           len(path_map[current_position if choice == \"you\" else elephant_position][target]), max_time)\n",
    "            next_released = released + ((max_time - end_time) * valve_map[target].flow_rate if end_time <= max_time else 0)\n",
    "            stack.append((\n",
    "                target if choice == \"you\" else current_position,\n",
    "                target if choice == \"elephant\" else elephant_position,\n",
    "                opened_valves + (target,),\n",
    "                next_released,\n",
    "                end_time + 1 if choice == \"you\" else time_passed,\n",
    "                end_time + 1 if choice == \"elephant\" else elephant_passed,\n",
    "            ))\n",
    "    return max_released"
   ],
   "metadata": {
    "collapsed": false
   }
  },
  {
   "cell_type": "code",
   "execution_count": 84,
   "outputs": [
    {
     "name": "stdout",
     "output_type": "stream",
     "text": [
      "2496\n"
     ]
    }
   ],
   "source": [
    "print(find_max_released_elephant(26))"
   ],
   "metadata": {
    "collapsed": false
   }
  },
  {
   "cell_type": "markdown",
   "source": [
    "### Very SLOW!"
   ],
   "metadata": {
    "collapsed": false
   }
  },
  {
   "cell_type": "code",
   "execution_count": null,
   "outputs": [],
   "source": [],
   "metadata": {
    "collapsed": false
   }
  }
 ],
 "metadata": {
  "kernelspec": {
   "display_name": "Python 3",
   "language": "python",
   "name": "python3"
  },
  "language_info": {
   "codemirror_mode": {
    "name": "ipython",
    "version": 2
   },
   "file_extension": ".py",
   "mimetype": "text/x-python",
   "name": "python",
   "nbconvert_exporter": "python",
   "pygments_lexer": "ipython2",
   "version": "2.7.6"
  }
 },
 "nbformat": 4,
 "nbformat_minor": 0
}
