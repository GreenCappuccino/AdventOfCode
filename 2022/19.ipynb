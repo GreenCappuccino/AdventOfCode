{
 "cells": [
  {
   "cell_type": "markdown",
   "source": [
    "# Input Processing"
   ],
   "metadata": {
    "collapsed": false
   }
  },
  {
   "cell_type": "code",
   "execution_count": 1,
   "metadata": {
    "collapsed": true
   },
   "outputs": [],
   "source": [
    "import time\n",
    "\n",
    "data = open(\"data/19.txt\", \"r\").read()"
   ]
  },
  {
   "cell_type": "code",
   "execution_count": 2,
   "outputs": [],
   "source": [
    "from dataclasses import dataclass\n",
    "\n",
    "\n",
    "@dataclass\n",
    "class Blueprint:\n",
    "    id: int\n",
    "    ore_robot_ore_cost: int\n",
    "    clay_robot_ore_cost: int\n",
    "    obsidian_robot_ore_cost: int\n",
    "    obsidian_robot_clay_cost: int\n",
    "    geode_robot_ore_cost: int\n",
    "    geode_robot_obsidian_cost: int"
   ],
   "metadata": {
    "collapsed": false
   }
  },
  {
   "cell_type": "code",
   "execution_count": 3,
   "outputs": [],
   "source": [
    "import re\n",
    "\n",
    "pattern = re.compile(r\"Blueprint (\\d+):\\D+(\\d+)\\D+(\\d+)\\D+(\\d+)\\D+(\\d+)\\D+(\\d+)\\D+(\\d+) \\w+\\.\")\n",
    "\n",
    "blueprints: list[Blueprint] = []\n",
    "for match in pattern.findall(data):\n",
    "    blueprints.append(Blueprint(*(int(group) for group in match)))"
   ],
   "metadata": {
    "collapsed": false
   }
  },
  {
   "cell_type": "markdown",
   "source": [
    "# Part 1"
   ],
   "metadata": {
    "collapsed": false
   }
  },
  {
   "cell_type": "code",
   "execution_count": 4,
   "outputs": [],
   "source": [
    "def add_s(test_num: int):\n",
    "    if test_num != 0:\n",
    "        return \"s\"\n",
    "    return \"\""
   ],
   "metadata": {
    "collapsed": false
   }
  },
  {
   "cell_type": "code",
   "execution_count": 5,
   "outputs": [],
   "source": [
    "def rm_s(test_num: int):\n",
    "    if test_num != 0:\n",
    "        return \"\"\n",
    "    return \"s\""
   ],
   "metadata": {
    "collapsed": false
   }
  },
  {
   "cell_type": "code",
   "execution_count": 6,
   "outputs": [],
   "source": [
    "import enum\n",
    "\n",
    "\n",
    "class PathMode(enum.Enum):\n",
    "    TRY_MAKE = enum.auto()\n",
    "    TRY_COLLECT = enum.auto()"
   ],
   "metadata": {
    "collapsed": false
   }
  },
  {
   "cell_type": "code",
   "execution_count": 7,
   "outputs": [],
   "source": [
    "def add_tuple(a: tuple[int, ...], b: tuple[int, ...]):\n",
    "    assert len(a) == len(b)\n",
    "    return tuple(a[i] + b[i] for i in range(len(a)))"
   ],
   "metadata": {
    "collapsed": false
   }
  },
  {
   "cell_type": "code",
   "execution_count": 8,
   "outputs": [],
   "source": [
    "def process_blueprint(test_blueprint: Blueprint, max_time=24, debug=False):\n",
    "    stack: list[tuple[\n",
    "        PathMode,\n",
    "        tuple[int, int, int, int],\n",
    "        tuple[int, int, int, int],\n",
    "        tuple[int, int, int, int],\n",
    "        int, str\n",
    "    ]] = [(\n",
    "        PathMode.TRY_MAKE,  # mode\n",
    "        (1, 0, 0, 0),  # robots: ore, clay, obsidian, geode\n",
    "        (0, 0, 0, 0),  # inventory: ore, clay, obsidian, geode\n",
    "        (0, 0, 0, 0),  # future_robots: ore, clay, obsidian, geode\n",
    "        1, \"\"  # timer, debug_string\n",
    "    )]\n",
    "    max_geode = -1\n",
    "    max_collect = None\n",
    "\n",
    "    top_geodes: list[int] = [0] * max_time\n",
    "\n",
    "    while len(stack) > 0:\n",
    "        hand = stack.pop() # DFS, need to perform greedy and prune\n",
    "        mode, robots, inventory, future_robots, timer, debug_string = hand\n",
    "\n",
    "        if timer > max_time:\n",
    "            if inventory[3] > max_geode:\n",
    "                max_geode = inventory[3]\n",
    "                max_collect = hand\n",
    "            continue\n",
    "\n",
    "        match mode:\n",
    "            case PathMode.TRY_MAKE:\n",
    "                if debug:\n",
    "                    debug_string += f\"== Minute {timer} ==\\n\"\n",
    "                # Factory can only make one robot at a time\n",
    "                ## Don't build any robots\n",
    "                stack.append((\n",
    "                        PathMode.TRY_COLLECT,\n",
    "                        robots, inventory, future_robots,\n",
    "                        timer, debug_string if debug else \"\"))\n",
    "                ## Try build ore robot\n",
    "                if inventory[0] >= test_blueprint.ore_robot_ore_cost and robots[0] < max(test_blueprint.ore_robot_ore_cost, test_blueprint.clay_robot_ore_cost, test_blueprint.obsidian_robot_ore_cost, test_blueprint.geode_robot_ore_cost):\n",
    "                    stack.append((\n",
    "                        PathMode.TRY_COLLECT,\n",
    "                        robots,\n",
    "                        add_tuple(inventory, (-1 * test_blueprint.ore_robot_ore_cost, 0, 0, 0)),\n",
    "                        (1, 0, 0, 0),\n",
    "                        timer, (debug_string + f\"Spend {test_blueprint.ore_robot_ore_cost} ore to start building a ore-collecting robot.\\n\") if debug else \"\"))\n",
    "                ## Try build clay robot\n",
    "                if inventory[0] >= test_blueprint.clay_robot_ore_cost and robots[1] < test_blueprint.obsidian_robot_clay_cost:\n",
    "                    stack.append((\n",
    "                        PathMode.TRY_COLLECT,\n",
    "                        robots,\n",
    "                        add_tuple(inventory, (-1 * test_blueprint.clay_robot_ore_cost, 0, 0, 0)),\n",
    "                        (0, 1, 0, 0),\n",
    "                        timer, (debug_string + f\"Spend {test_blueprint.clay_robot_ore_cost} ore to start building a clay-collecting robot.\\n\") if debug else \"\"))\n",
    "                ## Try build obsidian robot\n",
    "                if inventory[0] >= test_blueprint.obsidian_robot_ore_cost and inventory[\n",
    "                    1] >= test_blueprint.obsidian_robot_clay_cost and robots[2] < test_blueprint.geode_robot_obsidian_cost:\n",
    "                    stack.append((\n",
    "                        PathMode.TRY_COLLECT,\n",
    "                        robots,\n",
    "                        add_tuple(inventory, (\n",
    "                            -1 * test_blueprint.obsidian_robot_ore_cost, -1 * test_blueprint.obsidian_robot_clay_cost,\n",
    "                            0,\n",
    "                            0)),\n",
    "                        (0, 0, 1, 0),\n",
    "                        timer, (debug_string + f\"Spend {test_blueprint.obsidian_robot_ore_cost} ore and {test_blueprint.obsidian_robot_clay_cost} clay to start building an obsidian-collecting robot.\\n\") if debug else \"\"))\n",
    "                ## Try build geode robot\n",
    "                if inventory[0] >= test_blueprint.geode_robot_ore_cost and inventory[\n",
    "                    2] >= test_blueprint.geode_robot_obsidian_cost:\n",
    "                    stack.append((\n",
    "                        PathMode.TRY_COLLECT,\n",
    "                        robots,\n",
    "                        add_tuple(inventory, (\n",
    "                            -1 * test_blueprint.geode_robot_ore_cost, 0, -1 * test_blueprint.geode_robot_obsidian_cost,\n",
    "                            0)),\n",
    "                        (0, 0, 0, 1),\n",
    "                        timer, (debug_string + f\"Spend {test_blueprint.geode_robot_ore_cost} ore and {test_blueprint.geode_robot_obsidian_cost} obsidian to start building an obsidian-collecting robot.\\n\") if debug else \"\"))\n",
    "\n",
    "            case PathMode.TRY_COLLECT:\n",
    "                # Collect\n",
    "                inventory = add_tuple(inventory, robots)\n",
    "\n",
    "                if debug:\n",
    "                    if robots[0]:\n",
    "                        debug_string += f\"{robots[0]} ore-collecting robot{add_s(robots[0])} collect{rm_s(robots[0])} {robots[0]} ore; you now have {inventory[0]} ore.\\n\"\n",
    "                    if robots[1]:\n",
    "                        debug_string += f\"{robots[1]} clay-collecting robot{add_s(robots[1])} collect{rm_s(robots[1])} {robots[1]} clay; you now have {inventory[1]} clay.\\n\"\n",
    "                    if robots[2]:\n",
    "                        debug_string += f\"{robots[2]} obsidian-collecting robot{add_s(robots[2])} collect{rm_s(robots[2])} {robots[2]} obsidian; you now have {inventory[2]} obsidian.\\n\"\n",
    "                    if robots[3]:\n",
    "                        debug_string += f\"{robots[3]} geode-collecting robot{add_s(robots[3])} collect{rm_s(robots[3])} {robots[3]} ore; you now have {inventory[3]} open geode{add_s(inventory[3])}.\\n\"\n",
    "\n",
    "                # Apply top_geodes\n",
    "                top_geodes[timer - 1] = max(inventory[3], top_geodes[timer - 1])\n",
    "                # Prune if underperforming\n",
    "                if inventory[3] < top_geodes[timer - 1]:\n",
    "                    continue\n",
    "\n",
    "                # Apply future_robots\n",
    "                robots = add_tuple(robots, future_robots)\n",
    "                if debug:\n",
    "                    if future_robots[0]:\n",
    "                        debug_string += f\"The new ore-collecting robot is ready; you now have {robots[0]} of them.\\n\"\n",
    "                    if future_robots[1]:\n",
    "                        debug_string += f\"The new clay-collecting robot is ready; you now have {robots[1]} of them.\\n\"\n",
    "                    if future_robots[2]:\n",
    "                        debug_string += f\"The new obsidian-collecting robot is ready; you now have {robots[2]} of them.\\n\"\n",
    "                    if future_robots[3]:\n",
    "                        debug_string += f\"The new geode-collecting robot is ready; you now have {robots[3]} of them.\\n\"\n",
    "\n",
    "                stack.append((\n",
    "                    PathMode.TRY_MAKE,\n",
    "                    robots, inventory, (0, 0, 0, 0),\n",
    "                    timer + 1, (debug_string + \"\\n\") if debug else \"\"\n",
    "                ))\n",
    "    return max_collect"
   ],
   "metadata": {
    "collapsed": false
   }
  },
  {
   "cell_type": "code",
   "execution_count": 9,
   "outputs": [
    {
     "name": "stdout",
     "output_type": "stream",
     "text": [
      "DEBUG: 110.81703440000001\n",
      "NORMAL: 51.20457280000028\n"
     ]
    }
   ],
   "source": [
    "# DEBUG: 110.81703440000001\n",
    "# NORMAL: 51.20457280000028\n",
    "# start = time.perf_counter()\n",
    "# sum(process_blueprint(blueprint, debug=True)[2][3] * blueprint.id for blueprint in blueprints)\n",
    "# print(f\"DEBUG: {time.perf_counter() - start}\")\n",
    "# start = time.perf_counter()\n",
    "# sum(process_blueprint(blueprint)[2][3] * blueprint.id for blueprint in blueprints)\n",
    "# print(f\"NORMAL: {time.perf_counter() - start}\")"
   ],
   "metadata": {
    "collapsed": false
   }
  },
  {
   "cell_type": "code",
   "execution_count": 10,
   "outputs": [],
   "source": [
    "sum(process_blueprint(blueprint)[2][3] * blueprint.id for blueprint in blueprints)"
   ],
   "metadata": {
    "collapsed": false
   }
  }
 ],
 "metadata": {
  "kernelspec": {
   "display_name": "Python 3",
   "language": "python",
   "name": "python3"
  },
  "language_info": {
   "codemirror_mode": {
    "name": "ipython",
    "version": 2
   },
   "file_extension": ".py",
   "mimetype": "text/x-python",
   "name": "python",
   "nbconvert_exporter": "python",
   "pygments_lexer": "ipython2",
   "version": "2.7.6"
  }
 },
 "nbformat": 4,
 "nbformat_minor": 0
}
