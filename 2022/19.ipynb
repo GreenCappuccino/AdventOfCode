{
 "cells": [
  {
   "cell_type": "markdown",
   "source": [
    "# Input Processing"
   ],
   "metadata": {
    "collapsed": false
   }
  },
  {
   "cell_type": "code",
   "execution_count": 7,
   "metadata": {
    "collapsed": true
   },
   "outputs": [],
   "source": [
    "data = open(\"data/19.txt\", \"r\").read()"
   ]
  },
  {
   "cell_type": "code",
   "execution_count": 8,
   "outputs": [],
   "source": [
    "from dataclasses import dataclass\n",
    "\n",
    "@dataclass\n",
    "class Blueprint:\n",
    "    id: int\n",
    "    ore_robot_ore_cost: int\n",
    "    clay_robot_ore_cost: int\n",
    "    obsidian_robot_ore_cost: int\n",
    "    obsidian_robot_clay_cost: int\n",
    "    geode_robot_ore_cost: int\n",
    "    geode_robot_obsidian_cost: int"
   ],
   "metadata": {
    "collapsed": false
   }
  },
  {
   "cell_type": "code",
   "execution_count": 9,
   "outputs": [],
   "source": [
    "import re\n",
    "\n",
    "pattern = re.compile(r\"Blueprint (\\d+):\\D+(\\d+)\\D+(\\d+)\\D+(\\d+)\\D+(\\d+)\\D+(\\d+)\\D+(\\d+) \\w+\\.\")\n",
    "\n",
    "blueprints: list[Blueprint] = []\n",
    "for match in pattern.findall(data):\n",
    "    blueprints.append(Blueprint(*(int(group) for group in match)))"
   ],
   "metadata": {
    "collapsed": false
   }
  },
  {
   "cell_type": "markdown",
   "source": [
    "# Part 1"
   ],
   "metadata": {
    "collapsed": false
   }
  },
  {
   "cell_type": "code",
   "execution_count": null,
   "outputs": [],
   "source": [
    "def add_s(test_num: int):\n",
    "    if test_num != 0:\n",
    "        return \"s\"\n",
    "    return \"\""
   ],
   "metadata": {
    "collapsed": false
   }
  },
  {
   "cell_type": "code",
   "execution_count": null,
   "outputs": [],
   "source": [
    "def rm_s(test_num: int):\n",
    "    if test_num != 0:\n",
    "        return \"\"\n",
    "    return \"s\""
   ],
   "metadata": {
    "collapsed": false
   }
  },
  {
   "cell_type": "code",
   "execution_count": null,
   "outputs": [],
   "source": [
    "import enum\n",
    "class PathMode(enum.Enum):\n",
    "    TRY_MAKE = enum.auto()\n"
   ],
   "metadata": {
    "collapsed": false
   }
  },
  {
   "cell_type": "code",
   "execution_count": 10,
   "outputs": [
    {
     "data": {
      "text/plain": "[Blueprint(id=1, ore_robot_ore_cost=4, clay_robot_ore_cost=2, obsidian_robot_ore_cost=3, obsidian_robot_clay_cost=14, geode_robot_ore_cost=2, geode_robot_obsidian_cost=7),\n Blueprint(id=2, ore_robot_ore_cost=2, clay_robot_ore_cost=3, obsidian_robot_ore_cost=3, obsidian_robot_clay_cost=8, geode_robot_ore_cost=3, geode_robot_obsidian_cost=12)]"
     },
     "execution_count": 10,
     "metadata": {},
     "output_type": "execute_result"
    }
   ],
   "source": [
    "import numpy as np\n",
    "\n",
    "def process_blueprint(test_blueprint: Blueprint):\n",
    "\n",
    "    # ore_robots, clay_robots, obsidian_robots, geode_robots,\n",
    "    # ore, clay, obsidian, geode,\n",
    "    # timer, debug_string\n",
    "    stack: list[tuple[PathMode, np.ndarray, np.ndarray, np.ndarray, int, str]] = [(\n",
    "        PathMode.TRY_MAKE, # mode\n",
    "        np.array([]), # robots: ore, clay, obsidian, geode\n",
    "        np.array([]), # inventory: ore, clay, obsidian, geode\n",
    "        np.array([]), # future_robots: ore, clay, obsidian, geode\n",
    "        0,\n",
    "        \"\"\n",
    "    )]\n",
    "    max_geode = 0\n",
    "\n",
    "    while len(stack) > 0:\n",
    "        hand = stack.pop()\n",
    "        mode, ore_robots, clay_robots, obsidian_robots, geode_robots, ore, clay, obsidian, geode, timer, debug_string = hand\n",
    "\n",
    "        if timer > 24:\n",
    "            max_geode = max(geode, max_geode)\n",
    "            if geode == max_geode:\n",
    "                max_complete = hand\n",
    "            continue\n",
    "\n",
    "        match mode:\n",
    "            case PathMode.TRY_MAKE:\n",
    "\n",
    "\n",
    "        debug_string += f\"== Minute {timer} ==\"\n",
    "\n",
    "        # Collect ore\n",
    "        if ore_robots:\n",
    "            ore += ore_robots\n",
    "            debug_string += f\"{ore_robots} ore-collecting robot{add_s(ore_robots)} collect{rm_s(ore_robots)} {ore_robots} ore; you now have {ore} ore.\"\n",
    "        if clay_robots:\n",
    "            clay += clay_robots\n",
    "            debug_string += f\"{clay_robots} clay-collecting robot{add_s(clay_robots)} collect{rm_s(clay_robots)} {clay_robots} clay; you now have {clay} clay.\"\n",
    "        if obsidian_robots:\n",
    "            obsidian += obsidian_robots\n",
    "            debug_string += f\"{obsidian_robots} obsidian-collecting robot{add_s(obsidian_robots)} collect{rm_s(obsidian_robots)} {obsidian_robots} obsidian; you now have {obsidian} obsidian.\"\n",
    "        if geode_robots:\n",
    "            geode += geode_robots\n",
    "            debug_string += f\"{geode_robots} geode-collecting robot{add_s(geode_robots)} collect{rm_s(geode_robots)} {geode_robots} ore; you now have {geode} open geode{add_s(geode)}.\"\n",
    "    return max_complete"
   ],
   "metadata": {
    "collapsed": false
   }
  },
  {
   "cell_type": "code",
   "execution_count": 10,
   "outputs": [],
   "source": [],
   "metadata": {
    "collapsed": false
   }
  }
 ],
 "metadata": {
  "kernelspec": {
   "display_name": "Python 3",
   "language": "python",
   "name": "python3"
  },
  "language_info": {
   "codemirror_mode": {
    "name": "ipython",
    "version": 2
   },
   "file_extension": ".py",
   "mimetype": "text/x-python",
   "name": "python",
   "nbconvert_exporter": "python",
   "pygments_lexer": "ipython2",
   "version": "2.7.6"
  }
 },
 "nbformat": 4,
 "nbformat_minor": 0
}
