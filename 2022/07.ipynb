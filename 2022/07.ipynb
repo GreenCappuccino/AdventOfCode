{
 "cells": [
  {
   "cell_type": "code",
   "execution_count": 1,
   "metadata": {
    "collapsed": true
   },
   "outputs": [],
   "source": [
    "data = open(\"data/07.txt\", \"r\").read()"
   ]
  },
  {
   "cell_type": "markdown",
   "source": [
    "# Part 1"
   ],
   "metadata": {
    "collapsed": false
   }
  },
  {
   "cell_type": "code",
   "execution_count": 2,
   "outputs": [],
   "source": [
    "lines = data.splitlines()\n",
    "lines.reverse()"
   ],
   "metadata": {
    "collapsed": false
   }
  },
  {
   "cell_type": "code",
   "execution_count": 3,
   "outputs": [],
   "source": [
    "from typing import Optional\n",
    "from dataclasses import dataclass\n",
    "@dataclass\n",
    "class Node:\n",
    "    size: int\n",
    "    parent: any\n",
    "    children: Optional[list]\n",
    "    isDir: bool"
   ],
   "metadata": {
    "collapsed": false
   }
  },
  {
   "cell_type": "code",
   "execution_count": 4,
   "outputs": [],
   "source": [
    "def propagate_size(node: Node):\n",
    "    add = node.size\n",
    "    held = node.parent\n",
    "    while held.parent is not None:\n",
    "        held.size += add\n",
    "        held = held.parent\n",
    "    held.size += add"
   ],
   "metadata": {
    "collapsed": false
   }
  },
  {
   "cell_type": "code",
   "execution_count": 5,
   "outputs": [],
   "source": [
    "stack = []\n",
    "root = None\n",
    "while len(lines) > 0:\n",
    "    line = lines.pop()\n",
    "    cmd = line[2:4]\n",
    "    if cmd == \"cd\":\n",
    "        if line[5:].strip() != \"..\":\n",
    "            newDir = Node(0,None,[],True)\n",
    "            if len(stack) > 0:\n",
    "                newDir.parent = stack[-1]\n",
    "                stack[-1].children.append(newDir)\n",
    "            stack.append(newDir)\n",
    "        else:\n",
    "            stack.pop()\n",
    "    elif cmd == \"ls\":\n",
    "        while len(lines) > 0 and lines[-1][0] != \"$\":\n",
    "            size_str, file = lines.pop().split(\" \")\n",
    "            if size_str != \"dir\":\n",
    "                fileNode = Node(int(size_str), stack[-1], None, False)\n",
    "                stack[-1].children.append(fileNode)\n",
    "                propagate_size(fileNode)\n",
    "    root = stack[0]"
   ],
   "metadata": {
    "collapsed": false
   }
  },
  {
   "cell_type": "code",
   "execution_count": 6,
   "outputs": [
    {
     "data": {
      "text/plain": "1427048"
     },
     "execution_count": 6,
     "metadata": {},
     "output_type": "execute_result"
    }
   ],
   "source": [
    "stack = [root]\n",
    "size_tot = 0\n",
    "while len(stack) > 0:\n",
    "    hand = stack.pop()\n",
    "    if hand.size <= 100_000:\n",
    "        size_tot += hand.size\n",
    "    for child in hand.children:\n",
    "        if child.isDir:\n",
    "            stack.append(child)\n",
    "size_tot"
   ],
   "metadata": {
    "collapsed": false
   }
  },
  {
   "cell_type": "markdown",
   "source": [
    "# Part 2"
   ],
   "metadata": {
    "collapsed": false
   }
  },
  {
   "cell_type": "code",
   "execution_count": 7,
   "outputs": [],
   "source": [
    "import math"
   ],
   "metadata": {
    "collapsed": false
   }
  },
  {
   "cell_type": "code",
   "execution_count": 8,
   "outputs": [
    {
     "data": {
      "text/plain": "2940614"
     },
     "execution_count": 8,
     "metadata": {},
     "output_type": "execute_result"
    }
   ],
   "source": [
    "stack = [root]\n",
    "smallest_larger = math.inf\n",
    "while len(stack) > 0:\n",
    "    hand = stack.pop()\n",
    "    if ((70000000 - root.size) + hand.size) >= 30000000:\n",
    "        smallest_larger = min(smallest_larger, hand.size)\n",
    "    for child in hand.children:\n",
    "        if child.isDir:\n",
    "            stack.append(child)\n",
    "smallest_larger"
   ],
   "metadata": {
    "collapsed": false
   }
  }
 ],
 "metadata": {
  "kernelspec": {
   "display_name": "Python 3",
   "language": "python",
   "name": "python3"
  },
  "language_info": {
   "codemirror_mode": {
    "name": "ipython",
    "version": 2
   },
   "file_extension": ".py",
   "mimetype": "text/x-python",
   "name": "python",
   "nbconvert_exporter": "python",
   "pygments_lexer": "ipython2",
   "version": "2.7.6"
  }
 },
 "nbformat": 4,
 "nbformat_minor": 0
}
