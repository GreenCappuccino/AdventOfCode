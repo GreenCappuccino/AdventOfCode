{
 "cells": [
  {
   "cell_type": "code",
   "execution_count": 1,
   "outputs": [],
   "source": [
    "data = open(\"data/23.txt\", \"r\").read()"
   ],
   "metadata": {
    "collapsed": false
   }
  },
  {
   "cell_type": "code",
   "execution_count": 2,
   "outputs": [],
   "source": [
    "elves_orig: set[tuple[int, int]] = set()"
   ],
   "metadata": {
    "collapsed": false
   }
  },
  {
   "cell_type": "code",
   "execution_count": 3,
   "outputs": [],
   "source": [
    "lines = data.splitlines()\n",
    "for y, line in enumerate(lines):\n",
    "    for x, char in enumerate(line):\n",
    "        if char == \"#\":\n",
    "            elves_orig.add((x, len(lines) - y - 1))"
   ],
   "metadata": {
    "collapsed": false
   }
  },
  {
   "cell_type": "markdown",
   "source": [
    "# Part 1"
   ],
   "metadata": {
    "collapsed": false
   }
  },
  {
   "cell_type": "code",
   "execution_count": 4,
   "outputs": [],
   "source": [
    "proposals: dict[tuple[int, int], int] = {}"
   ],
   "metadata": {
    "collapsed": false
   }
  },
  {
   "cell_type": "code",
   "execution_count": 5,
   "outputs": [],
   "source": [
    "direction: dict[str, tuple[int, int]] = {\n",
    "    \"NW\": (-1, 1),\n",
    "    \"N\": (0, 1),\n",
    "    \"NE\": (1, 1),\n",
    "    \"W\": (-1, 0),\n",
    "    \"E\": (1, 0),\n",
    "    \"SW\": (-1, -1),\n",
    "    \"S\": (0, -1),\n",
    "    \"SE\": (1, -1),\n",
    "    \" \": (0, 0),\n",
    "}"
   ],
   "metadata": {
    "collapsed": false
   }
  },
  {
   "cell_type": "code",
   "execution_count": 6,
   "outputs": [],
   "source": [
    "def add_tuple(a: tuple[int, ...], b: tuple[int, ...]):\n",
    "    assert len(a) == len(b)\n",
    "    return tuple(a[i] + b[i] for i in range(len(a)))"
   ],
   "metadata": {
    "collapsed": false
   }
  },
  {
   "cell_type": "code",
   "execution_count": 7,
   "outputs": [],
   "source": [
    "def no_elves(loc: tuple[int, int], dirs: list[str]):\n",
    "    result = True\n",
    "    for d in dirs:\n",
    "        result = result and add_tuple(loc, direction[d]) not in elves\n",
    "    return result"
   ],
   "metadata": {
    "collapsed": false
   }
  },
  {
   "cell_type": "code",
   "execution_count": 8,
   "outputs": [],
   "source": [
    "def add_proposal(loc: tuple[int, int]):\n",
    "    if loc in proposals:\n",
    "        proposals[loc] += 1\n",
    "    else:\n",
    "        proposals[loc] = 1"
   ],
   "metadata": {
    "collapsed": false
   }
  },
  {
   "cell_type": "code",
   "execution_count": 9,
   "outputs": [],
   "source": [
    "def move_if_possible(loc: tuple[int, int], d: str):\n",
    "    if proposals[add_tuple(loc, direction[d])] == 1:\n",
    "        new_elves.add(add_tuple(loc, direction[d]))\n",
    "    else:\n",
    "        new_elves.add(loc)"
   ],
   "metadata": {
    "collapsed": false
   }
  },
  {
   "cell_type": "code",
   "execution_count": 10,
   "outputs": [],
   "source": [
    "test_order = [\n",
    "    ([\"N\", \"NE\", \"NW\"], \"N\"),\n",
    "    ([\"S\", \"SE\", \"SW\"], \"S\"),\n",
    "    ([\"W\", \"NW\", \"SW\"], \"W\"),\n",
    "    ([\"E\", \"NE\", \"SE\"], \"E\")\n",
    "]"
   ],
   "metadata": {
    "collapsed": false
   }
  },
  {
   "cell_type": "code",
   "execution_count": 11,
   "outputs": [],
   "source": [
    "def propose(e: tuple[int, int]):\n",
    "    if no_elves(e, [\"NW\", \"N\", \"NE\", \"W\", \"E\", \"SW\", \"S\", \"SE\"]):\n",
    "        add_proposal(e)\n",
    "    elif no_elves(e, test_order[0][0]):\n",
    "        add_proposal(add_tuple(e, direction[test_order[0][1]]))\n",
    "    elif no_elves(e, test_order[1][0]):\n",
    "        add_proposal(add_tuple(e, direction[test_order[1][1]]))\n",
    "    elif no_elves(e, test_order[2][0]):\n",
    "        add_proposal(add_tuple(e, direction[test_order[2][1]]))\n",
    "    elif no_elves(e, test_order[3][0]):\n",
    "        add_proposal(add_tuple(e, direction[test_order[3][1]]))\n",
    "    else:\n",
    "        add_proposal(e)"
   ],
   "metadata": {
    "collapsed": false
   }
  },
  {
   "cell_type": "code",
   "execution_count": 12,
   "outputs": [],
   "source": [
    "def act(e: tuple[int, int]):\n",
    "    if no_elves(e, [\"NW\", \"N\", \"NE\", \"W\", \"E\", \"SW\", \"S\", \"SE\"]):\n",
    "        move_if_possible(e, \" \")\n",
    "    elif no_elves(e, test_order[0][0]):\n",
    "        move_if_possible(e, test_order[0][1])\n",
    "    elif no_elves(e, test_order[1][0]):\n",
    "        move_if_possible(e, test_order[1][1])\n",
    "    elif no_elves(e, test_order[2][0]):\n",
    "        move_if_possible(e, test_order[2][1])\n",
    "    elif no_elves(e, test_order[3][0]):\n",
    "        move_if_possible(e, test_order[3][1])\n",
    "    else:\n",
    "        move_if_possible(e, \" \")"
   ],
   "metadata": {
    "collapsed": false
   }
  },
  {
   "cell_type": "code",
   "execution_count": 13,
   "outputs": [],
   "source": [
    "new_elves: set[tuple[int, int]] = set()"
   ],
   "metadata": {
    "collapsed": false
   }
  },
  {
   "cell_type": "code",
   "execution_count": 14,
   "outputs": [],
   "source": [
    "print_range = ((-3, 11), (-3, 9))\n",
    "# print_range = ((-6, 74), (-5, 73))"
   ],
   "metadata": {
    "collapsed": false
   }
  },
  {
   "cell_type": "code",
   "execution_count": 15,
   "outputs": [],
   "source": [
    "def field_print(header=\"\"):\n",
    "    print(header)\n",
    "    for y in reversed(range(print_range[1][0], print_range[1][1])):\n",
    "        for x in range(print_range[0][0], print_range[0][1]):\n",
    "            if (x, y) in elves:\n",
    "                print(\"#\", end=\"\")\n",
    "            else:\n",
    "                print(\".\", end=\"\")\n",
    "        print()\n",
    "    print()"
   ],
   "metadata": {
    "collapsed": false
   }
  },
  {
   "cell_type": "code",
   "execution_count": 16,
   "outputs": [],
   "source": [
    "elves = elves_orig.copy()\n",
    "\n",
    "# field_print(\"== Initial State ==\")\n",
    "for i in range(10):\n",
    "    proposals = {}\n",
    "    new_elves = set()\n",
    "    for elf in elves:\n",
    "        propose(elf)\n",
    "    for elf in elves:\n",
    "        act(elf)\n",
    "    elves = new_elves\n",
    "    test_order.append(test_order.pop(0))\n",
    "    # field_print(f\"== End of Round {i + 1} ==\")"
   ],
   "metadata": {
    "collapsed": false
   }
  },
  {
   "cell_type": "code",
   "execution_count": 17,
   "outputs": [],
   "source": [
    "import math\n",
    "\n",
    "\n",
    "def get_score():\n",
    "    x_min = math.inf\n",
    "    x_max = -math.inf\n",
    "    y_min = math.inf\n",
    "    y_max = -math.inf\n",
    "    for elf in elves:\n",
    "        x_min = min(elf[0], x_min)\n",
    "        x_max = max(elf[0], x_max)\n",
    "        y_min = min(elf[1], y_min)\n",
    "        y_max = max(elf[1], y_max)\n",
    "    area = ((x_max + 1) - x_min) * ((y_max + 1) - y_min)\n",
    "\n",
    "    global print_range\n",
    "    # print_range = ((x_min, x_max+1), (y_min, y_max+1))\n",
    "    # field_print(\"Solution rectangle\")\n",
    "    return area - len(elves)"
   ],
   "metadata": {
    "collapsed": false
   }
  },
  {
   "cell_type": "code",
   "execution_count": 18,
   "outputs": [
    {
     "data": {
      "text/plain": "3925"
     },
     "execution_count": 18,
     "metadata": {},
     "output_type": "execute_result"
    }
   ],
   "source": [
    "get_score()"
   ],
   "metadata": {
    "collapsed": false
   }
  },
  {
   "cell_type": "markdown",
   "source": [
    "# Part 2"
   ],
   "metadata": {
    "collapsed": false
   }
  },
  {
   "cell_type": "code",
   "execution_count": 19,
   "outputs": [],
   "source": [
    "test_order = [\n",
    "    ([\"N\", \"NE\", \"NW\"], \"N\"),\n",
    "    ([\"S\", \"SE\", \"SW\"], \"S\"),\n",
    "    ([\"W\", \"NW\", \"SW\"], \"W\"),\n",
    "    ([\"E\", \"NE\", \"SE\"], \"E\")\n",
    "]"
   ],
   "metadata": {
    "collapsed": false
   }
  },
  {
   "cell_type": "code",
   "execution_count": 20,
   "outputs": [],
   "source": [
    "no_move = True"
   ],
   "metadata": {
    "collapsed": false
   }
  },
  {
   "cell_type": "code",
   "execution_count": 21,
   "outputs": [],
   "source": [
    "def move_if_possible(loc: tuple[int, int], d: str):\n",
    "    move_to = None\n",
    "    if proposals[add_tuple(loc, direction[d])] == 1:\n",
    "        move_to = add_tuple(loc, direction[d])\n",
    "    else:\n",
    "        move_to = loc\n",
    "    new_elves.add(move_to)\n",
    "    if move_to != loc:\n",
    "        global  no_move\n",
    "        no_move = False"
   ],
   "metadata": {
    "collapsed": false
   }
  },
  {
   "cell_type": "code",
   "execution_count": 22,
   "outputs": [],
   "source": [
    "elves = elves_orig.copy()\n",
    "round_num = 0\n",
    "elves = elves_orig.copy()\n",
    "old_elves = set()\n",
    "while True:\n",
    "    no_move = True\n",
    "    proposals = {}\n",
    "    new_elves = set()\n",
    "    for elf in elves:\n",
    "        propose(elf)\n",
    "    for elf in elves:\n",
    "        act(elf)\n",
    "    old_elves = elves\n",
    "    elves = new_elves\n",
    "    test_order.append(test_order.pop(0))\n",
    "    round_num += 1\n",
    "    if no_move:\n",
    "        break"
   ],
   "metadata": {
    "collapsed": false
   }
  },
  {
   "cell_type": "code",
   "execution_count": 23,
   "outputs": [
    {
     "data": {
      "text/plain": "903"
     },
     "execution_count": 23,
     "metadata": {},
     "output_type": "execute_result"
    }
   ],
   "source": [
    "round_num"
   ],
   "metadata": {
    "collapsed": false
   }
  }
 ],
 "metadata": {
  "kernelspec": {
   "display_name": "Python 3",
   "language": "python",
   "name": "python3"
  },
  "language_info": {
   "codemirror_mode": {
    "name": "ipython",
    "version": 2
   },
   "file_extension": ".py",
   "mimetype": "text/x-python",
   "name": "python",
   "nbconvert_exporter": "python",
   "pygments_lexer": "ipython2",
   "version": "2.7.6"
  }
 },
 "nbformat": 4,
 "nbformat_minor": 0
}
