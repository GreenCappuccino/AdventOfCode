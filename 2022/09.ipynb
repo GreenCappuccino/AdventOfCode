{
 "cells": [
  {
   "cell_type": "code",
   "execution_count": 1,
   "outputs": [],
   "source": [
    "data = open(\"data/09.txt\", \"r\").read()"
   ],
   "metadata": {
    "collapsed": false
   }
  },
  {
   "cell_type": "markdown",
   "source": [
    "# Part 1"
   ],
   "metadata": {
    "collapsed": false
   }
  },
  {
   "cell_type": "code",
   "execution_count": 2,
   "metadata": {
    "collapsed": true
   },
   "outputs": [],
   "source": [
    "# x,y\n",
    "tail = (0,0)\n",
    "head = (0,0)"
   ]
  },
  {
   "cell_type": "code",
   "execution_count": 3,
   "outputs": [],
   "source": [
    "import math"
   ],
   "metadata": {
    "collapsed": false
   }
  },
  {
   "cell_type": "code",
   "execution_count": 4,
   "outputs": [],
   "source": [
    "def bogo_ceil(a):\n",
    "    if a > 0:\n",
    "        return math.ceil(a)\n",
    "    if a < 0:\n",
    "        return math.floor(a)\n",
    "    return 0"
   ],
   "metadata": {
    "collapsed": false
   }
  },
  {
   "cell_type": "code",
   "execution_count": 5,
   "outputs": [],
   "source": [
    "def update_tail(hc: tuple[int,int], tc: tuple[int, int]):\n",
    "    \"\"\"Returns a tuple that represents the updated position of the tail.\"\"\"\n",
    "    # Cases:\n",
    "    # 123\n",
    "    # 405\n",
    "    # 678\n",
    "    if abs(hc[0]-tc[0]) <= 1 and abs(hc[1]-tc[1]) <= 1:\n",
    "        return tc\n",
    "    else:\n",
    "        return (tc[0] + bogo_ceil((hc[0]-tc[0]) / 2),\n",
    "                tc[1] + bogo_ceil((hc[1]-tc[1]) / 2))"
   ],
   "metadata": {
    "collapsed": false
   }
  },
  {
   "cell_type": "code",
   "execution_count": 6,
   "outputs": [],
   "source": [
    "op_map = {\n",
    "    \"R\": (1,0),\n",
    "    \"U\": (0,1),\n",
    "    \"L\": (-1,0),\n",
    "    \"D\": (0,-1)\n",
    "}"
   ],
   "metadata": {
    "collapsed": false
   }
  },
  {
   "cell_type": "code",
   "execution_count": 7,
   "outputs": [],
   "source": [
    "visited: set[tuple[int, int]] = set()"
   ],
   "metadata": {
    "collapsed": false
   }
  },
  {
   "cell_type": "code",
   "execution_count": 8,
   "outputs": [],
   "source": [
    "for instruction in data.splitlines():\n",
    "    op, count = instruction.split(\" \")\n",
    "    op_tuple = op_map[op.strip()]\n",
    "    for i in range(int(count)):\n",
    "        head = (head[0] + op_tuple[0], head[1] + op_tuple[1])\n",
    "        tail = update_tail(head, tail)\n",
    "        visited.add(tail)"
   ],
   "metadata": {
    "collapsed": false
   }
  },
  {
   "cell_type": "code",
   "execution_count": 9,
   "outputs": [
    {
     "data": {
      "text/plain": "5710"
     },
     "execution_count": 9,
     "metadata": {},
     "output_type": "execute_result"
    }
   ],
   "source": [
    "len(visited)"
   ],
   "metadata": {
    "collapsed": false
   }
  },
  {
   "cell_type": "markdown",
   "source": [
    "# Part 2"
   ],
   "metadata": {
    "collapsed": false
   }
  },
  {
   "cell_type": "code",
   "execution_count": 10,
   "outputs": [],
   "source": [
    "head = (0,0)\n",
    "rope_length = 10\n",
    "rope: list[tuple[int,int]] = []\n",
    "for i in range(rope_length):\n",
    "    rope.append((0,0))"
   ],
   "metadata": {
    "collapsed": false
   }
  },
  {
   "cell_type": "code",
   "execution_count": 11,
   "outputs": [],
   "source": [
    "visited = set()"
   ],
   "metadata": {
    "collapsed": false
   }
  },
  {
   "cell_type": "code",
   "execution_count": 12,
   "outputs": [],
   "source": [
    "for instruction in data.splitlines():\n",
    "    op, count = instruction.split(\" \")\n",
    "    op_tuple = op_map[op.strip()]\n",
    "    for i in range(int(count)):\n",
    "        head = (head[0] + op_tuple[0], head[1] + op_tuple[1])\n",
    "        rope[0] = head # update rope to sync state\n",
    "        for i in range(1, len(rope)):\n",
    "            rope[i] = update_tail(rope[i-1], rope[i])\n",
    "        visited.add(rope[-1])"
   ],
   "metadata": {
    "collapsed": false
   }
  },
  {
   "cell_type": "code",
   "execution_count": 13,
   "outputs": [
    {
     "data": {
      "text/plain": "2259"
     },
     "execution_count": 13,
     "metadata": {},
     "output_type": "execute_result"
    }
   ],
   "source": [
    "len(visited)"
   ],
   "metadata": {
    "collapsed": false
   }
  }
 ],
 "metadata": {
  "kernelspec": {
   "display_name": "Python 3",
   "language": "python",
   "name": "python3"
  },
  "language_info": {
   "codemirror_mode": {
    "name": "ipython",
    "version": 2
   },
   "file_extension": ".py",
   "mimetype": "text/x-python",
   "name": "python",
   "nbconvert_exporter": "python",
   "pygments_lexer": "ipython2",
   "version": "2.7.6"
  }
 },
 "nbformat": 4,
 "nbformat_minor": 0
}
