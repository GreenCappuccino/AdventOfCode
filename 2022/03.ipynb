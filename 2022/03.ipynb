{
 "cells": [
  {
   "cell_type": "markdown",
   "source": [
    "# Part 1"
   ],
   "metadata": {
    "collapsed": false
   }
  },
  {
   "cell_type": "code",
   "execution_count": 1,
   "metadata": {
    "collapsed": true
   },
   "outputs": [],
   "source": [
    "data = open(\"data/03.txt\", \"r\").read()"
   ]
  },
  {
   "cell_type": "code",
   "execution_count": 2,
   "outputs": [],
   "source": [
    "lines = data.splitlines()"
   ],
   "metadata": {
    "collapsed": false
   }
  },
  {
   "cell_type": "code",
   "execution_count": 3,
   "outputs": [],
   "source": [
    "top = [line[:len(line)//2] for line in lines]\n",
    "bottom = [line[len(line)//2:] for line in lines]"
   ],
   "metadata": {
    "collapsed": false
   }
  },
  {
   "cell_type": "code",
   "execution_count": 4,
   "outputs": [],
   "source": [
    "intersects = []\n",
    "for i in range(len(lines)):\n",
    "    intersects.append(list(set(top[i]) & set(bottom[i]))[0])"
   ],
   "metadata": {
    "collapsed": false
   }
  },
  {
   "cell_type": "code",
   "execution_count": 5,
   "outputs": [],
   "source": [
    "priority = {\n",
    "\"a\": 1,\n",
    "\"b\": 2,\n",
    "\"c\": 3,\n",
    "\"d\": 4,\n",
    "\"e\": 5,\n",
    "\"f\": 6,\n",
    "\"g\": 7,\n",
    "\"h\": 8,\n",
    "\"i\": 9,\n",
    "\"j\": 10,\n",
    "\"k\": 11,\n",
    "\"l\": 12,\n",
    "\"m\": 13,\n",
    "\"n\": 14,\n",
    "\"o\": 15,\n",
    "\"p\": 16,\n",
    "\"q\": 17,\n",
    "\"r\": 18,\n",
    "\"s\": 19,\n",
    "\"t\": 20,\n",
    "\"u\": 21,\n",
    "\"v\": 22,\n",
    "\"w\": 23,\n",
    "\"x\": 24,\n",
    "\"y\": 25,\n",
    "\"z\": 26,\n",
    "\"A\": 27,\n",
    "\"B\": 28,\n",
    "\"C\": 29,\n",
    "\"D\": 30,\n",
    "\"E\": 31,\n",
    "\"F\": 32,\n",
    "\"G\": 33,\n",
    "\"H\": 34,\n",
    "\"I\": 35,\n",
    "\"J\": 36,\n",
    "\"K\": 37,\n",
    "\"L\": 38,\n",
    "\"M\": 39,\n",
    "\"N\": 40,\n",
    "\"O\": 41,\n",
    "\"P\": 42,\n",
    "\"Q\": 43,\n",
    "\"R\": 44,\n",
    "\"S\": 45,\n",
    "\"T\": 46,\n",
    "\"U\": 47,\n",
    "\"V\": 48,\n",
    "\"W\": 49,\n",
    "\"X\": 50,\n",
    "\"Y\": 51,\n",
    "\"Z\": 52\n",
    "}"
   ],
   "metadata": {
    "collapsed": false
   }
  },
  {
   "cell_type": "code",
   "execution_count": 6,
   "outputs": [
    {
     "name": "stdout",
     "output_type": "stream",
     "text": [
      "7446\n"
     ]
    }
   ],
   "source": [
    "sum = 0\n",
    "for intersection in intersects:\n",
    "    sum += priority[intersection]\n",
    "print(sum)"
   ],
   "metadata": {
    "collapsed": false
   }
  },
  {
   "cell_type": "markdown",
   "source": [
    "# Part 2"
   ],
   "metadata": {
    "collapsed": false
   }
  },
  {
   "cell_type": "code",
   "execution_count": 7,
   "outputs": [],
   "source": [
    "triples = []\n",
    "for i in range(len(lines)//3):\n",
    "    triples.append((lines[i*3],lines[i*3+1],lines[i*3+2]))"
   ],
   "metadata": {
    "collapsed": false
   }
  },
  {
   "cell_type": "code",
   "execution_count": 8,
   "outputs": [],
   "source": [
    "intersects = []\n",
    "for triple in triples:\n",
    "    intersects.append(list(set(triple[0]) & set(triple[1]) & set(triple[2]))[0])"
   ],
   "metadata": {
    "collapsed": false
   }
  },
  {
   "cell_type": "code",
   "execution_count": 9,
   "outputs": [
    {
     "name": "stdout",
     "output_type": "stream",
     "text": [
      "2646\n"
     ]
    }
   ],
   "source": [
    "sum = 0\n",
    "for intersection in intersects:\n",
    "    sum += priority[intersection]\n",
    "print(sum)"
   ],
   "metadata": {
    "collapsed": false
   }
  }
 ],
 "metadata": {
  "kernelspec": {
   "display_name": "Python 3",
   "language": "python",
   "name": "python3"
  },
  "language_info": {
   "codemirror_mode": {
    "name": "ipython",
    "version": 2
   },
   "file_extension": ".py",
   "mimetype": "text/x-python",
   "name": "python",
   "nbconvert_exporter": "python",
   "pygments_lexer": "ipython2",
   "version": "2.7.6"
  }
 },
 "nbformat": 4,
 "nbformat_minor": 0
}
