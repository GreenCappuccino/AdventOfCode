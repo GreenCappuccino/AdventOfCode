{
 "cells": [
  {
   "cell_type": "code",
   "execution_count": 74,
   "metadata": {
    "collapsed": true
   },
   "outputs": [],
   "source": [
    "from __future__ import annotations\n",
    "\n",
    "data = open(\"data/20.txt\", \"r\").read()"
   ]
  },
  {
   "cell_type": "code",
   "execution_count": 75,
   "outputs": [],
   "source": [
    "numbers = [int(line) for line in data.splitlines()]"
   ],
   "metadata": {
    "collapsed": false
   }
  },
  {
   "cell_type": "code",
   "execution_count": 76,
   "outputs": [],
   "source": [
    "length = len(numbers)"
   ],
   "metadata": {
    "collapsed": false
   }
  },
  {
   "cell_type": "markdown",
   "source": [
    "# Part 1"
   ],
   "metadata": {
    "collapsed": false
   }
  },
  {
   "cell_type": "code",
   "execution_count": 77,
   "outputs": [],
   "source": [
    "from typing import Optional\n",
    "from dataclasses import dataclass\n",
    "@dataclass(slots=True)\n",
    "class Node:\n",
    "    left: Optional[Node]\n",
    "    right: Optional[Node]\n",
    "    value: int"
   ],
   "metadata": {
    "collapsed": false
   }
  },
  {
   "cell_type": "code",
   "execution_count": 78,
   "outputs": [],
   "source": [
    "nodes: list[Node] = []\n",
    "node_zero: Node = None\n",
    "last_node = None\n",
    "for number in numbers:\n",
    "    new_node = Node(\n",
    "        left=last_node,\n",
    "        right=None,\n",
    "        value=number\n",
    "    )\n",
    "    if last_node:\n",
    "        last_node.right = new_node\n",
    "    if number == 0:\n",
    "        node_zero = new_node\n",
    "    last_node = new_node\n",
    "    nodes.append(new_node)\n",
    "\n",
    "nodes[0].left = nodes[-1]\n",
    "nodes[-1].right = nodes[0]"
   ],
   "metadata": {
    "collapsed": false
   }
  },
  {
   "cell_type": "code",
   "execution_count": 79,
   "outputs": [],
   "source": [
    "import math\n",
    "\n",
    "def traverse(no: Node, amount: int):\n",
    "    distance = abs(amount)\n",
    "    if distance % length == 0:\n",
    "        return no\n",
    "    direction = math.copysign(1, amount) if amount != 0 else 0\n",
    "    current_node = no\n",
    "    for _ in range(distance % length):\n",
    "        if direction == 1:\n",
    "            current_node = current_node.right\n",
    "        elif direction == -1:\n",
    "            current_node = current_node.left\n",
    "\n",
    "    if direction == -1:\n",
    "        current_node = current_node.left\n",
    "\n",
    "    return current_node"
   ],
   "metadata": {
    "collapsed": false
   }
  },
  {
   "cell_type": "code",
   "execution_count": 80,
   "outputs": [],
   "source": [
    "def insert(no: Node):\n",
    "    if abs(no.value) % length == 0:\n",
    "        return\n",
    "    new_no = traverse(no, no.value)\n",
    "\n",
    "    no.left.right = no.right\n",
    "    no.right.left = no.left\n",
    "\n",
    "    new_no.right.left = no\n",
    "    no.right = new_no.right\n",
    "    new_no.right = no\n",
    "    no.left = new_no"
   ],
   "metadata": {
    "collapsed": false
   }
  },
  {
   "cell_type": "code",
   "execution_count": 81,
   "outputs": [],
   "source": [
    "def get(amount: int):\n",
    "    return traverse(node_zero, amount).value"
   ],
   "metadata": {
    "collapsed": false
   }
  },
  {
   "cell_type": "code",
   "execution_count": 82,
   "outputs": [],
   "source": [
    "def print_from_zero():\n",
    "    current_node = node_zero\n",
    "    for _ in range(length):\n",
    "        print(current_node.value, end=\", \")\n",
    "        current_node = current_node.right\n",
    "    print()"
   ],
   "metadata": {
    "collapsed": false
   }
  },
  {
   "cell_type": "code",
   "execution_count": 83,
   "outputs": [
    {
     "name": "stdout",
     "output_type": "stream",
     "text": [
      "0, 4, 1, 2, -3, -8, -2, \n",
      "0, 4, 2, 1, -3, -8, -2, \n",
      "0, 4, 1, -3, 2, -8, -2, \n",
      "0, 4, 1, 2, -8, -2, -3, \n",
      "0, 4, 1, -8, 2, -2, -3, \n",
      "0, 4, 1, -2, -8, 2, -3, \n",
      "0, 4, 1, -2, -8, 2, -3, \n",
      "0, 1, -2, -8, 2, 4, -3, \n"
     ]
    }
   ],
   "source": [
    "print_from_zero()\n",
    "for i in range(len(nodes)):\n",
    "    insert(nodes[i])\n",
    "    print_from_zero()"
   ],
   "metadata": {
    "collapsed": false
   }
  },
  {
   "cell_type": "code",
   "execution_count": 84,
   "outputs": [],
   "source": [
    "searches = (1000, 2000, 3000)"
   ],
   "metadata": {
    "collapsed": false
   }
  },
  {
   "cell_type": "code",
   "execution_count": 85,
   "outputs": [
    {
     "data": {
      "text/plain": "(-3, 4, 2)"
     },
     "execution_count": 85,
     "metadata": {},
     "output_type": "execute_result"
    }
   ],
   "source": [
    "tuple(get(search) for search in searches)"
   ],
   "metadata": {
    "collapsed": false
   }
  },
  {
   "cell_type": "code",
   "execution_count": 86,
   "outputs": [
    {
     "data": {
      "text/plain": "3"
     },
     "execution_count": 86,
     "metadata": {},
     "output_type": "execute_result"
    }
   ],
   "source": [
    "sum(get(search) for search in searches)"
   ],
   "metadata": {
    "collapsed": false
   }
  },
  {
   "cell_type": "code",
   "execution_count": 86,
   "outputs": [],
   "source": [],
   "metadata": {
    "collapsed": false
   }
  }
 ],
 "metadata": {
  "kernelspec": {
   "display_name": "Python 3",
   "language": "python",
   "name": "python3"
  },
  "language_info": {
   "codemirror_mode": {
    "name": "ipython",
    "version": 2
   },
   "file_extension": ".py",
   "mimetype": "text/x-python",
   "name": "python",
   "nbconvert_exporter": "python",
   "pygments_lexer": "ipython2",
   "version": "2.7.6"
  }
 },
 "nbformat": 4,
 "nbformat_minor": 0
}
