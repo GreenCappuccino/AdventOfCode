{
 "cells": [
  {
   "cell_type": "markdown",
   "source": [
    "# Generate rocks"
   ],
   "metadata": {
    "collapsed": false
   }
  },
  {
   "cell_type": "code",
   "execution_count": 1,
   "outputs": [],
   "source": [
    "rocks_str_raw = '''####\n",
    "\n",
    ".#.\n",
    "###\n",
    ".#.\n",
    "\n",
    "..#\n",
    "..#\n",
    "###\n",
    "\n",
    "#\n",
    "#\n",
    "#\n",
    "#\n",
    "\n",
    "##\n",
    "##\n",
    "'''"
   ],
   "metadata": {
    "collapsed": false
   }
  },
  {
   "cell_type": "code",
   "execution_count": 2,
   "outputs": [],
   "source": [
    "from dataclasses import dataclass\n",
    "\n",
    "@dataclass\n",
    "class Rock:\n",
    "    # +y\n",
    "    # (0,0) +x\n",
    "    parts: list[tuple[int, int]]\n",
    "    width: int\n",
    "    height: int\n",
    "\n",
    "    def __init__(self):\n",
    "        self.parts = []\n",
    "        self.width = self.height = 0\n",
    "\n",
    "    def add_part(self, new_part: tuple[int, int]):\n",
    "        self.parts.append(new_part)\n",
    "        self.width = max(new_part[0] + 1, self.width)\n",
    "        self.height = max(new_part[1] + 1, self.height)"
   ],
   "metadata": {
    "collapsed": false
   }
  },
  {
   "cell_type": "code",
   "execution_count": 3,
   "outputs": [],
   "source": [
    "rocks_str = rocks_str_raw.split(\"\\n\\n\")"
   ],
   "metadata": {
    "collapsed": false
   }
  },
  {
   "cell_type": "code",
   "execution_count": 4,
   "outputs": [],
   "source": [
    "rocks: list[Rock] = []\n",
    "for rock_str in rocks_str:\n",
    "    rocks.append(Rock())\n",
    "    split_rock_str = rock_str.splitlines()\n",
    "    for part_row, rock_line in enumerate(split_rock_str):\n",
    "        for part_col, part, in enumerate(list(rock_line)):\n",
    "            if part == \".\":\n",
    "                continue\n",
    "            rocks[-1].add_part((part_col, len(split_rock_str) - part_row - 1))"
   ],
   "metadata": {
    "collapsed": false
   }
  },
  {
   "cell_type": "markdown",
   "source": [
    "# Input Processing"
   ],
   "metadata": {
    "collapsed": false
   }
  },
  {
   "cell_type": "code",
   "execution_count": 5,
   "outputs": [],
   "source": [
    "jet_str = open(\"data/17.txt\", \"r\").read().strip()"
   ],
   "metadata": {
    "collapsed": false
   }
  },
  {
   "cell_type": "code",
   "execution_count": 6,
   "outputs": [],
   "source": [
    "jets: list[int] = []  # -1 (left) or 1 (right)\n",
    "for char in list(jet_str):\n",
    "    jets.append(-1 if char == \"<\" else 1)"
   ],
   "metadata": {
    "collapsed": false
   }
  },
  {
   "cell_type": "markdown",
   "source": [
    "# Part 1"
   ],
   "metadata": {
    "collapsed": false
   }
  },
  {
   "cell_type": "code",
   "execution_count": 7,
   "outputs": [],
   "source": [
    "rock_locations: set[tuple[int, int]] = set()\n",
    "chamber_width = 7\n",
    "max_rocks = 2022\n",
    "tallest_rock = 0  # floor\n",
    "current_rock_index = 0\n",
    "current_jet_index = 0\n",
    "current_rock_location: tuple[int, int] = (2, tallest_rock + 3)\n",
    "num_rocks = 0\n",
    "\n",
    "while num_rocks < max_rocks:\n",
    "    # Process jet\n",
    "    valid = True\n",
    "    ## Create test rock\n",
    "    future_rock_location = (\n",
    "        current_rock_location[0] + jets[current_jet_index],\n",
    "        current_rock_location[1]\n",
    "    )\n",
    "    current_jet_index = (current_jet_index + 1) % len(jets)\n",
    "    ## Test wall collision\n",
    "    if future_rock_location[0] < 0 or future_rock_location[0] + rocks[current_rock_index].width - 1 >= chamber_width:\n",
    "        valid = False\n",
    "    ## Test rock collisions\n",
    "    for test_part in rocks[current_rock_index].parts:\n",
    "        if (\n",
    "                test_part[0] + future_rock_location[0],\n",
    "                test_part[1] + future_rock_location[1]\n",
    "        ) in rock_locations:\n",
    "            valid = False\n",
    "            break\n",
    "    ## Set position if jet is valid\n",
    "    if valid:\n",
    "        current_rock_location = future_rock_location\n",
    "\n",
    "    # Process gravity\n",
    "    valid = True\n",
    "    ## Create test rock\n",
    "    future_rock_location = (\n",
    "        current_rock_location[0],\n",
    "        current_rock_location[1] - 1\n",
    "    )\n",
    "    ## Test floor collision\n",
    "    if future_rock_location[1] < 0:\n",
    "        valid = False\n",
    "    ## Test rock collisions\n",
    "    for test_part in rocks[current_rock_index].parts:\n",
    "        if (\n",
    "                test_part[0] + future_rock_location[0],\n",
    "                test_part[1] + future_rock_location[1]\n",
    "        ) in rock_locations:\n",
    "            valid = False\n",
    "            break\n",
    "    ## Set position if jet is valid\n",
    "    if valid:\n",
    "        current_rock_location = future_rock_location\n",
    "        continue\n",
    "\n",
    "    # If gravity isn't valid, rock has settled, switch rock\n",
    "    ## Apply rock part locations to settled rock set\n",
    "    for new_part in rocks[current_rock_index].parts:\n",
    "        rock_locations.add((\n",
    "            new_part[0] + current_rock_location[0],\n",
    "            new_part[1] + current_rock_location[1]\n",
    "        ))\n",
    "    ## Apply the tallest rock if possible\n",
    "    tallest_rock = max(current_rock_location[1] + rocks[current_rock_index].height, tallest_rock)\n",
    "    ## Increment current rock index\n",
    "    current_rock_index = (current_rock_index + 1) % len(rocks)\n",
    "    ## Update current rock location to new spawned rock\n",
    "    current_rock_location = (2, tallest_rock + 3)\n",
    "    ## Increment the number of rocks settled\n",
    "    num_rocks += 1"
   ],
   "metadata": {
    "collapsed": false
   }
  },
  {
   "cell_type": "code",
   "execution_count": 8,
   "outputs": [
    {
     "data": {
      "text/plain": "3100"
     },
     "execution_count": 8,
     "metadata": {},
     "output_type": "execute_result"
    }
   ],
   "source": [
    "tallest_rock"
   ],
   "metadata": {
    "collapsed": false
   }
  },
  {
   "cell_type": "markdown",
   "source": [
    "# Part 2"
   ],
   "metadata": {
    "collapsed": false
   }
  },
  {
   "cell_type": "code",
   "execution_count": 9,
   "outputs": [],
   "source": [
    "import re\n",
    "cycle_detector = re.compile(r\"(((?:\\(\\d+,\\d+,\\d+\\))+?)(\\2)+)\") # search\n",
    "height_extractor = re.compile(r\"\\((\\d+),\\d+,\\d+\\)\") # find_all of substring"
   ],
   "metadata": {
    "collapsed": false
   }
  },
  {
   "cell_type": "code",
   "execution_count": 10,
   "outputs": [],
   "source": [
    "rock_locations: set[tuple[int, int]] = set()\n",
    "chamber_width = 7\n",
    "max_rocks = 1000000000000\n",
    "tallest_rock = 0  # floor\n",
    "current_rock_index = 0\n",
    "current_jet_index = 0\n",
    "current_rock_location: tuple[int, int] = (2, tallest_rock + 3)\n",
    "num_rocks = 0\n",
    "history = \"\"\n",
    "\n",
    "cycle_check_interval = 10_000\n",
    "cycle_match = None\n",
    "last_tallest: list[int] = []\n",
    "\n",
    "while num_rocks < max_rocks:\n",
    "    # Process jet\n",
    "    valid = True\n",
    "    ## Create test rock\n",
    "    future_rock_location = (\n",
    "        current_rock_location[0] + jets[current_jet_index],\n",
    "        current_rock_location[1]\n",
    "    )\n",
    "    current_jet_index = (current_jet_index + 1) % len(jets)\n",
    "    ## Test wall collision\n",
    "    if future_rock_location[0] < 0 or future_rock_location[0] + rocks[current_rock_index].width - 1 >= chamber_width:\n",
    "        valid = False\n",
    "    ## Test rock collisions\n",
    "    for test_part in rocks[current_rock_index].parts:\n",
    "        if (\n",
    "                test_part[0] + future_rock_location[0],\n",
    "                test_part[1] + future_rock_location[1]\n",
    "        ) in rock_locations:\n",
    "            valid = False\n",
    "            break\n",
    "    ## Set position if jet is valid\n",
    "    if valid:\n",
    "        current_rock_location = future_rock_location\n",
    "\n",
    "    # Process gravity\n",
    "    valid = True\n",
    "    ## Create test rock\n",
    "    future_rock_location = (\n",
    "        current_rock_location[0],\n",
    "        current_rock_location[1] - 1\n",
    "    )\n",
    "    ## Test floor collision\n",
    "    if future_rock_location[1] < 0:\n",
    "        valid = False\n",
    "    ## Test rock collisions\n",
    "    for test_part in rocks[current_rock_index].parts:\n",
    "        if (\n",
    "                test_part[0] + future_rock_location[0],\n",
    "                test_part[1] + future_rock_location[1]\n",
    "        ) in rock_locations:\n",
    "            valid = False\n",
    "            break\n",
    "    ## Set position if jet is valid\n",
    "    if valid:\n",
    "        current_rock_location = future_rock_location\n",
    "        continue\n",
    "\n",
    "    # If gravity isn't valid, rock has settled, switch rock\n",
    "    ## Apply rock part locations to settled rock set\n",
    "    for new_part in rocks[current_rock_index].parts:\n",
    "        rock_locations.add((\n",
    "            new_part[0] + current_rock_location[0],\n",
    "            new_part[1] + current_rock_location[1]\n",
    "        ))\n",
    "    ## Apply the tallest rock if possible\n",
    "    last_tallest.append(tallest_rock)\n",
    "    tallest_rock = max(current_rock_location[1] + rocks[current_rock_index].height, tallest_rock)\n",
    "    ## Update the history\n",
    "    history += f\"({tallest_rock - last_tallest[-1]},{current_rock_index},{current_jet_index})\"\n",
    "    ## Try to detect a cycle\n",
    "    if num_rocks % cycle_check_interval == 0:\n",
    "        cycle_match = cycle_detector.search(history)\n",
    "        if cycle_match:\n",
    "            break\n",
    "    ## Increment current rock index\n",
    "    current_rock_index = (current_rock_index + 1) % len(rocks)\n",
    "    ## Update current rock location to new spawned rock\n",
    "    current_rock_location = (2, tallest_rock + 3)\n",
    "    ## Increment the number of rocks settled\n",
    "    num_rocks += 1\n",
    "\n",
    "# Check if we've exited because of a cycle detection\n",
    "if cycle_match:\n",
    "    # Begin extrapolating\n",
    "    ## Compute start and end of data\n",
    "    start_str = cycle_match.start()\n",
    "    precycle_height_changes = height_extractor.findall(history[:start_str])\n",
    "    cycle_height_changes_str = height_extractor.findall(cycle_match.group(2))\n",
    "    end_str = start_str + len(cycle_match.group(2))\n",
    "\n",
    "    cycle_height_changes = [int(x) for x in cycle_height_changes_str]\n",
    "    cycle_sum = sum(cycle_height_changes)\n",
    "\n",
    "    start = len(precycle_height_changes)\n",
    "    cycle_len = len(cycle_height_changes)\n",
    "    remaining = max_rocks - start\n",
    "    full_cycles = remaining // cycle_len\n",
    "\n",
    "    tallest_rock = last_tallest[start]\n",
    "    tallest_rock += full_cycles * cycle_sum\n",
    "    remaining = max_rocks - start - full_cycles * cycle_len\n",
    "    tallest_rock += sum(cycle_height_changes[:remaining])"
   ],
   "metadata": {
    "collapsed": false
   }
  },
  {
   "cell_type": "code",
   "execution_count": 11,
   "outputs": [
    {
     "data": {
      "text/plain": "1540634005751"
     },
     "execution_count": 11,
     "metadata": {},
     "output_type": "execute_result"
    }
   ],
   "source": [
    "tallest_rock"
   ],
   "metadata": {
    "collapsed": false
   }
  }
 ],
 "metadata": {
  "kernelspec": {
   "display_name": "Python 3",
   "language": "python",
   "name": "python3"
  },
  "language_info": {
   "codemirror_mode": {
    "name": "ipython",
    "version": 2
   },
   "file_extension": ".py",
   "mimetype": "text/x-python",
   "name": "python",
   "nbconvert_exporter": "python",
   "pygments_lexer": "ipython2",
   "version": "2.7.6"
  }
 },
 "nbformat": 4,
 "nbformat_minor": 0
}
