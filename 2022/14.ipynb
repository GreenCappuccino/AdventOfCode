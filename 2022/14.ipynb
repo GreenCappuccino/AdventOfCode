{
 "cells": [
  {
   "cell_type": "code",
   "execution_count": 1,
   "metadata": {
    "collapsed": true
   },
   "outputs": [],
   "source": [
    "data = open(\"data/14.txt\", \"r\").read()"
   ]
  },
  {
   "cell_type": "markdown",
   "source": [
    "# Part 1"
   ],
   "metadata": {
    "collapsed": false
   }
  },
  {
   "cell_type": "code",
   "execution_count": 2,
   "outputs": [],
   "source": [
    "import math\n",
    "rock: set[tuple[int,int]] = set()\n",
    "rock_min_row = -math.inf"
   ],
   "metadata": {
    "collapsed": false
   }
  },
  {
   "cell_type": "code",
   "execution_count": 3,
   "outputs": [],
   "source": [
    "def sign(a):\n",
    "    return 1 if a > 0 else 0 if a == 0 else -1 if a < 0 else None"
   ],
   "metadata": {
    "collapsed": false
   }
  },
  {
   "cell_type": "code",
   "execution_count": 4,
   "outputs": [],
   "source": [
    "for line in data.splitlines():\n",
    "    points_str = line.split(\" -> \")\n",
    "    points: list[tuple[int,int]] = []\n",
    "    for point_str in points_str:\n",
    "        col_str, row_str = point_str.split(\",\")\n",
    "        points.append((int(col_str), int(row_str)))\n",
    "    curr_col = points[0][0]\n",
    "    curr_row = points[0][1]\n",
    "    rock.add((curr_col, curr_row))\n",
    "    rock_min_row = max(curr_row, rock_min_row)\n",
    "\n",
    "    for i in range(len(points) - 1):\n",
    "        for j in range(abs(points[i+1][0] - points[i][0])):\n",
    "            curr_col += sign(points[i+1][0] - points[i][0])\n",
    "            rock.add((curr_col, curr_row))\n",
    "            rock_min_row = max(curr_row, rock_min_row)\n",
    "        for j in range(abs(points[i+1][1] - points[i][1])):\n",
    "            curr_row += sign(points[i+1][1] - points[i][1])\n",
    "            rock.add((curr_col, curr_row))\n",
    "            rock_min_row = max(curr_row, rock_min_row)"
   ],
   "metadata": {
    "collapsed": false
   }
  },
  {
   "cell_type": "code",
   "execution_count": 5,
   "outputs": [],
   "source": [
    "sand_source = (500, 0)\n",
    "settled_sand: set[tuple[int,int]] = set()"
   ],
   "metadata": {
    "collapsed": false
   }
  },
  {
   "cell_type": "code",
   "execution_count": 6,
   "outputs": [],
   "source": [
    "def sand_valid(sp):\n",
    "    \"\"\"Returns True if sand can move to this location\"\"\"\n",
    "    return (not (sp in rock)) and (not (sp in settled_sand))"
   ],
   "metadata": {
    "collapsed": false
   }
  },
  {
   "cell_type": "code",
   "execution_count": 7,
   "outputs": [],
   "source": [
    "def settle_sand():\n",
    "    sand_pos = sand_source\n",
    "    off_edge = False\n",
    "    falling = True\n",
    "    while falling:\n",
    "        if sand_pos[1] >= rock_min_row:\n",
    "            off_edge = True\n",
    "            break\n",
    "        if sand_valid((sand_pos[0], sand_pos[1]+1)):\n",
    "            sand_pos = (sand_pos[0], sand_pos[1]+1)\n",
    "            continue\n",
    "        if sand_valid((sand_pos[0]-1, sand_pos[1]+1)):\n",
    "            sand_pos = (sand_pos[0]-1, sand_pos[1]+1)\n",
    "            continue\n",
    "        if sand_valid((sand_pos[0]+1, sand_pos[1]+1)):\n",
    "            sand_pos = (sand_pos[0]+1, sand_pos[1]+1)\n",
    "            continue\n",
    "        falling = False\n",
    "    if off_edge:\n",
    "        return None\n",
    "    return sand_pos"
   ],
   "metadata": {
    "collapsed": false
   }
  },
  {
   "cell_type": "code",
   "execution_count": 8,
   "outputs": [],
   "source": [
    "settled = 0\n",
    "while True:\n",
    "    settle_result = settle_sand()\n",
    "    if settle_result is None:\n",
    "        break\n",
    "    settled += 1\n",
    "    settled_sand.add(settle_result)"
   ],
   "metadata": {
    "collapsed": false
   }
  },
  {
   "cell_type": "code",
   "execution_count": 9,
   "outputs": [
    {
     "data": {
      "text/plain": "901"
     },
     "execution_count": 9,
     "metadata": {},
     "output_type": "execute_result"
    }
   ],
   "source": [
    "settled"
   ],
   "metadata": {
    "collapsed": false
   }
  },
  {
   "cell_type": "markdown",
   "source": [
    "# Part 2"
   ],
   "metadata": {
    "collapsed": false
   }
  },
  {
   "cell_type": "code",
   "execution_count": 10,
   "outputs": [],
   "source": [
    "def sand_valid(sp):\n",
    "    \"\"\"Returns True if sand can move to this location\"\"\"\n",
    "    return (not (sp in rock)) and (not (sp in settled_sand)) and sp[1] != rock_min_row + 2"
   ],
   "metadata": {
    "collapsed": false
   }
  },
  {
   "cell_type": "code",
   "execution_count": 11,
   "outputs": [],
   "source": [
    "def settle_sand():\n",
    "    sand_pos = sand_source\n",
    "    off_edge = False\n",
    "    falling = True\n",
    "    while falling:\n",
    "        if sand_valid((sand_pos[0], sand_pos[1]+1)):\n",
    "            sand_pos = (sand_pos[0], sand_pos[1]+1)\n",
    "            continue\n",
    "        if sand_valid((sand_pos[0]-1, sand_pos[1]+1)):\n",
    "            sand_pos = (sand_pos[0]-1, sand_pos[1]+1)\n",
    "            continue\n",
    "        if sand_valid((sand_pos[0]+1, sand_pos[1]+1)):\n",
    "            sand_pos = (sand_pos[0]+1, sand_pos[1]+1)\n",
    "            continue\n",
    "        falling = False\n",
    "    return sand_pos"
   ],
   "metadata": {
    "collapsed": false
   }
  },
  {
   "cell_type": "code",
   "execution_count": 12,
   "outputs": [],
   "source": [
    "settled_sand = set()\n",
    "settled = 0\n",
    "while True:\n",
    "    settle_result = settle_sand()\n",
    "    if settle_result == sand_source:\n",
    "        break\n",
    "    settled += 1\n",
    "    settled_sand.add(settle_result)"
   ],
   "metadata": {
    "collapsed": false
   }
  },
  {
   "cell_type": "code",
   "execution_count": 13,
   "outputs": [
    {
     "data": {
      "text/plain": "24589"
     },
     "execution_count": 13,
     "metadata": {},
     "output_type": "execute_result"
    }
   ],
   "source": [
    "settled + 1"
   ],
   "metadata": {
    "collapsed": false
   }
  }
 ],
 "metadata": {
  "kernelspec": {
   "display_name": "Python 3",
   "language": "python",
   "name": "python3"
  },
  "language_info": {
   "codemirror_mode": {
    "name": "ipython",
    "version": 2
   },
   "file_extension": ".py",
   "mimetype": "text/x-python",
   "name": "python",
   "nbconvert_exporter": "python",
   "pygments_lexer": "ipython2",
   "version": "2.7.6"
  }
 },
 "nbformat": 4,
 "nbformat_minor": 0
}
