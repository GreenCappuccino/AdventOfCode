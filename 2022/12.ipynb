{
 "cells": [
  {
   "cell_type": "markdown",
   "source": [
    "# Input Processing"
   ],
   "metadata": {
    "collapsed": false
   }
  },
  {
   "cell_type": "code",
   "execution_count": 1,
   "metadata": {
    "collapsed": true
   },
   "outputs": [],
   "source": [
    "data = open(\"data/12.txt\", \"r\").read()"
   ]
  },
  {
   "cell_type": "code",
   "execution_count": 2,
   "outputs": [],
   "source": [
    "lines = data.splitlines()"
   ],
   "metadata": {
    "collapsed": false
   }
  },
  {
   "cell_type": "code",
   "execution_count": 3,
   "outputs": [],
   "source": [
    "height = len(lines)\n",
    "width = len(lines[0])"
   ],
   "metadata": {
    "collapsed": false
   }
  },
  {
   "cell_type": "code",
   "execution_count": 4,
   "outputs": [],
   "source": [
    "start: tuple[int,int] = (-1,-1)\n",
    "end: tuple[int,int] = (-1,-1)\n",
    "grid: list[list[int]] = []\n",
    "\n",
    "row = 0\n",
    "col = 0\n",
    "for line in lines:\n",
    "    grid.append([])\n",
    "    col = 0\n",
    "    for character in line:\n",
    "        if character == \"S\":\n",
    "            start = (row, col)\n",
    "            grid[-1].append(ord(\"a\"))\n",
    "            col += 1\n",
    "            continue\n",
    "        if character == \"E\":\n",
    "            end = (row, col)\n",
    "            grid[-1].append(ord(\"z\"))\n",
    "            col += 1\n",
    "            continue\n",
    "        grid[-1].append(ord(character))\n",
    "        col += 1\n",
    "    row += 1"
   ],
   "metadata": {
    "collapsed": false
   }
  },
  {
   "cell_type": "markdown",
   "source": [
    "# Part 1"
   ],
   "metadata": {
    "collapsed": false
   }
  },
  {
   "cell_type": "code",
   "execution_count": 5,
   "outputs": [],
   "source": [
    "def is_valid(from_row, from_col, test_row, test_col, from_visited):\n",
    "    if 0 <= test_row < height and 0 <= test_col < width and (test_row, test_col) not in from_visited:\n",
    "        return grid[test_row][test_col] <= grid[from_row][from_col] + 1\n",
    "    return False"
   ],
   "metadata": {
    "collapsed": false
   }
  },
  {
   "cell_type": "code",
   "execution_count": 6,
   "outputs": [],
   "source": [
    "stack: list[tuple[int, int, int]] = [start + (0,)]\n",
    "visited: set[tuple[int,int]] = set()\n",
    "steps = []\n",
    "while len(stack) > 0:\n",
    "    hand = stack.pop(0)\n",
    "\n",
    "    if (hand[0], hand[1]) == end:\n",
    "        steps.append(hand[2])\n",
    "\n",
    "    if is_valid(hand[0], hand[1], hand[0] + 1, hand[1], visited):\n",
    "        stack.append((hand[0] + 1, hand[1], hand[2] + 1))\n",
    "        visited.add((hand[0] + 1, hand[1]))\n",
    "    if is_valid(hand[0], hand[1], hand[0], hand[1] + 1, visited):\n",
    "        stack.append((hand[0], hand[1] + 1, hand[2] + 1))\n",
    "        visited.add((hand[0], hand[1] + 1))\n",
    "    if is_valid(hand[0], hand[1], hand[0] - 1, hand[1], visited):\n",
    "        stack.append((hand[0] - 1, hand[1], hand[2] + 1))\n",
    "        visited.add((hand[0] - 1, hand[1]))\n",
    "    if is_valid(hand[0], hand[1], hand[0], hand[1] - 1, visited):\n",
    "        stack.append((hand[0], hand[1] - 1, hand[2] + 1))\n",
    "        visited.add((hand[0], hand[1] - 1))"
   ],
   "metadata": {
    "collapsed": false
   }
  },
  {
   "cell_type": "code",
   "execution_count": 7,
   "outputs": [
    {
     "data": {
      "text/plain": "423"
     },
     "execution_count": 7,
     "metadata": {},
     "output_type": "execute_result"
    }
   ],
   "source": [
    "min(steps)"
   ],
   "metadata": {
    "collapsed": false
   }
  },
  {
   "cell_type": "markdown",
   "source": [
    "# Part 2"
   ],
   "metadata": {
    "collapsed": false
   }
  },
  {
   "cell_type": "code",
   "execution_count": 8,
   "outputs": [],
   "source": [
    "def trace():\n",
    "    stack: list[tuple[int, int, int]] = [start + (0,)]\n",
    "    visited: set[tuple[int,int]] = set()\n",
    "    while len(stack) > 0:\n",
    "        hand = stack.pop(0)\n",
    "\n",
    "        if (hand[0], hand[1]) == end:\n",
    "            steps.append(hand[2])\n",
    "\n",
    "        if is_valid(hand[0], hand[1], hand[0] + 1, hand[1], visited):\n",
    "            stack.append((hand[0] + 1, hand[1], hand[2] + 1))\n",
    "            visited.add((hand[0] + 1, hand[1]))\n",
    "        if is_valid(hand[0], hand[1], hand[0], hand[1] + 1, visited):\n",
    "            stack.append((hand[0], hand[1] + 1, hand[2] + 1))\n",
    "            visited.add((hand[0], hand[1] + 1))\n",
    "        if is_valid(hand[0], hand[1], hand[0] - 1, hand[1], visited):\n",
    "            stack.append((hand[0] - 1, hand[1], hand[2] + 1))\n",
    "            visited.add((hand[0] - 1, hand[1]))\n",
    "        if is_valid(hand[0], hand[1], hand[0], hand[1] - 1, visited):\n",
    "            stack.append((hand[0], hand[1] - 1, hand[2] + 1))\n",
    "            visited.add((hand[0], hand[1] - 1))"
   ],
   "metadata": {
    "collapsed": false
   }
  },
  {
   "cell_type": "code",
   "execution_count": 9,
   "outputs": [
    {
     "data": {
      "text/plain": "416"
     },
     "execution_count": 9,
     "metadata": {},
     "output_type": "execute_result"
    }
   ],
   "source": [
    "steps = []\n",
    "row = 0\n",
    "col = 0\n",
    "starts = []\n",
    "for line in lines:\n",
    "    grid.append([])\n",
    "    col = 0\n",
    "    for character in line:\n",
    "        if character == \"a\" or character == \"S\":\n",
    "            starts.append((row, col))\n",
    "        col += 1\n",
    "    row += 1\n",
    "\n",
    "for s in starts:\n",
    "    start = s\n",
    "    trace()\n",
    "\n",
    "min(steps)"
   ],
   "metadata": {
    "collapsed": false
   }
  }
 ],
 "metadata": {
  "kernelspec": {
   "display_name": "Python 3",
   "language": "python",
   "name": "python3"
  },
  "language_info": {
   "codemirror_mode": {
    "name": "ipython",
    "version": 2
   },
   "file_extension": ".py",
   "mimetype": "text/x-python",
   "name": "python",
   "nbconvert_exporter": "python",
   "pygments_lexer": "ipython2",
   "version": "2.7.6"
  }
 },
 "nbformat": 4,
 "nbformat_minor": 0
}
